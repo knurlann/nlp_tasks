{
 "cells": [
  {
   "cell_type": "markdown",
   "metadata": {},
   "source": [
    "### Lab 2: Hyponyms and Hypernyms"
   ]
  },
  {
   "cell_type": "code",
   "execution_count": 1,
   "metadata": {},
   "outputs": [
    {
     "name": "stdout",
     "output_type": "stream",
     "text": [
      "4\n"
     ]
    }
   ],
   "source": [
    "import pandas as pd\n",
    "import wikipedia\n",
    "import os\n",
    "from tqdm import tqdm\n",
    "from joblib import Parallel, delayed\n",
    "import multiprocessing\n",
    "import networkx as nx\n",
    "import matplotlib.pyplot as plt\n",
    "from collections import defaultdict\n",
    "from ipywidgets import interact, interactive, fixed, interact_manual,widgets\n",
    "from IPython.display import display\n",
    "import json\n",
    "num_cores = multiprocessing.cpu_count()\n",
    "print(num_cores)\n",
    "wikipedia.set_lang(\"ru\")\n",
    "# DATA_PATH_LIST = ['D:','src2','taxonomy-enrichment','data','training_data']\n",
    "DATA_PATH_LIST = ['.']\n",
    "EMBEDDING_MODEL_FILENAME = \"wiki_node2vec.bin\"\n",
    "DATA_PATH=\"/\".join(DATA_PATH_LIST+[\"training_nouns.tsv\"])\n",
    "df = pd.read_csv(DATA_PATH,sep='\\t')\n",
    "%matplotlib inline"
   ]
  },
  {
   "cell_type": "code",
   "execution_count": 2,
   "metadata": {},
   "outputs": [],
   "source": [
    "def prestr(x):\n",
    "    return str(x).replace('\\\"','').replace(\"'\",'\"')"
   ]
  },
  {
   "cell_type": "code",
   "execution_count": 3,
   "metadata": {},
   "outputs": [],
   "source": [
    "class DefDict(defaultdict):\n",
    "    def __missing__(self, key):\n",
    "        self[key] = key\n",
    "        return key\n",
    "    \n",
    "idx2syns = DefDict(lambda x:x)\n",
    "for val in df.values:\n",
    "    idx2syns[val[0]]=val[1]\n",
    "    try:\n",
    "        pidxs = json.loads(prestr(val[2]))\n",
    "        concp = [el.split(\",\")[0] for el in json.loads(prestr(val[3]))]\n",
    "        idx2syns.update(dict(zip(pidxs,concp)))\n",
    "    except:\n",
    "        print(prestr(val[2]))\n",
    "        print(prestr(val[3]))"
   ]
  },
  {
   "cell_type": "markdown",
   "metadata": {},
   "source": [
    "### Interactive visualization of hyponyms and hypernyms\n"
   ]
  },
  {
   "cell_type": "code",
   "execution_count": 4,
   "metadata": {},
   "outputs": [
    {
     "data": {
      "application/vnd.jupyter.widget-view+json": {
       "model_id": "0349392229b243b78475fb88d3e1c07e",
       "version_major": 2,
       "version_minor": 0
      },
      "text/plain": [
       "Button(description='Draw', style=ButtonStyle())"
      ]
     },
     "metadata": {},
     "output_type": "display_data"
    },
    {
     "data": {
      "application/vnd.jupyter.widget-view+json": {
       "model_id": "4f5c73b2a45641e59c84dbfa270245ce",
       "version_major": 2,
       "version_minor": 0
      },
      "text/plain": [
       "Text(value='МАТЬ', description='String:', placeholder='Query')"
      ]
     },
     "metadata": {},
     "output_type": "display_data"
    },
    {
     "name": "stdout",
     "output_type": "stream",
     "text": [
      "graphdraw МАТЬ\n",
      "['ИГУМЕН МОНАСТЫРЯ', ' ИГУМЕНЬЯ МОНАСТЫРЯ', ' МАТЬ-ИГУМЕНЬЯ', ' ОТЕЦ-ИГУМЕН', ' ИГУМЕНЬЯ', ' ИГУМЕН']\n",
      "['МОЛОЧНАЯ МАТЬ', ' КОРМИЛИЦА']\n",
      "['СПОСОБНОСТЬ ПОНИМАТЬ ЗНАЧЕНИЕ СВОИХ ДЕЙСТВИЙ', ' ВМЕНЯЕМОСТЬ']\n",
      "['СПОСОБНОСТЬ ПОНИМАТЬ ЗНАЧЕНИЕ СВОИХ ДЕЙСТВИЙ', ' ВМЕНЯЕМОСТЬ']\n",
      "['СУРМАМА', ' СУРРОГАТНАЯ МАМА', ' СУРРОГАТНАЯ МАТЬ', ' СУРРОГАТНОЕ МАТЕРИНСТВО']\n",
      "['СВЕКРОВЬ', ' МАТЬ МУЖА']\n",
      "['МАТЬ ЖЕНЫ', ' ТЕЩА']\n"
     ]
    },
    {
     "ename": "ImportError",
     "evalue": "('requires pygraphviz ', 'http://pygraphviz.github.io/')",
     "output_type": "error",
     "traceback": [
      "\u001b[0;31m---------------------------------------------------------------------------\u001b[0m",
      "\u001b[0;31mModuleNotFoundError\u001b[0m                       Traceback (most recent call last)",
      "\u001b[0;32m//anaconda3/lib/python3.7/site-packages/networkx/drawing/nx_agraph.py\u001b[0m in \u001b[0;36mpygraphviz_layout\u001b[0;34m(G, prog, root, args)\u001b[0m\n\u001b[1;32m    282\u001b[0m     \u001b[0;32mtry\u001b[0m\u001b[0;34m:\u001b[0m\u001b[0;34m\u001b[0m\u001b[0;34m\u001b[0m\u001b[0m\n\u001b[0;32m--> 283\u001b[0;31m         \u001b[0;32mimport\u001b[0m \u001b[0mpygraphviz\u001b[0m\u001b[0;34m\u001b[0m\u001b[0;34m\u001b[0m\u001b[0m\n\u001b[0m\u001b[1;32m    284\u001b[0m     \u001b[0;32mexcept\u001b[0m \u001b[0mImportError\u001b[0m\u001b[0;34m:\u001b[0m\u001b[0;34m\u001b[0m\u001b[0;34m\u001b[0m\u001b[0m\n",
      "\u001b[0;31mModuleNotFoundError\u001b[0m: No module named 'pygraphviz'",
      "\nDuring handling of the above exception, another exception occurred:\n",
      "\u001b[0;31mImportError\u001b[0m                               Traceback (most recent call last)",
      "\u001b[0;32m<ipython-input-4-e5b79d45fa5b>\u001b[0m in \u001b[0;36mgraphdraw\u001b[0;34m(b)\u001b[0m\n\u001b[1;32m     33\u001b[0m \u001b[0;34m\u001b[0m\u001b[0m\n\u001b[1;32m     34\u001b[0m     \u001b[0mplt\u001b[0m\u001b[0;34m.\u001b[0m\u001b[0mfigure\u001b[0m\u001b[0;34m(\u001b[0m\u001b[0mfigsize\u001b[0m\u001b[0;34m=\u001b[0m\u001b[0;34m(\u001b[0m\u001b[0;36m15\u001b[0m\u001b[0;34m,\u001b[0m\u001b[0;36m15\u001b[0m\u001b[0;34m)\u001b[0m\u001b[0;34m)\u001b[0m\u001b[0;34m\u001b[0m\u001b[0;34m\u001b[0m\u001b[0m\n\u001b[0;32m---> 35\u001b[0;31m     \u001b[0mpos\u001b[0m \u001b[0;34m=\u001b[0m \u001b[0mnx\u001b[0m\u001b[0;34m.\u001b[0m\u001b[0mnx_agraph\u001b[0m\u001b[0;34m.\u001b[0m\u001b[0mgraphviz_layout\u001b[0m\u001b[0;34m(\u001b[0m\u001b[0mg\u001b[0m\u001b[0;34m)\u001b[0m\u001b[0;34m\u001b[0m\u001b[0;34m\u001b[0m\u001b[0m\n\u001b[0m\u001b[1;32m     36\u001b[0m     \u001b[0mnx\u001b[0m\u001b[0;34m.\u001b[0m\u001b[0mdraw\u001b[0m\u001b[0;34m(\u001b[0m\u001b[0mg\u001b[0m\u001b[0;34m,\u001b[0m\u001b[0mwith_labels\u001b[0m\u001b[0;34m=\u001b[0m\u001b[0;32mTrue\u001b[0m\u001b[0;34m,\u001b[0m\u001b[0mpos\u001b[0m\u001b[0;34m=\u001b[0m\u001b[0mpos\u001b[0m\u001b[0;34m)\u001b[0m\u001b[0;34m\u001b[0m\u001b[0;34m\u001b[0m\u001b[0m\n\u001b[1;32m     37\u001b[0m \u001b[0;31m#     edge_labels=nx.draw_networkx_edge_labels(g,pos=pos)\u001b[0m\u001b[0;34m\u001b[0m\u001b[0;34m\u001b[0m\u001b[0;34m\u001b[0m\u001b[0m\n",
      "\u001b[0;32m//anaconda3/lib/python3.7/site-packages/networkx/drawing/nx_agraph.py\u001b[0m in \u001b[0;36mgraphviz_layout\u001b[0;34m(G, prog, root, args)\u001b[0m\n\u001b[1;32m    241\u001b[0m     \u001b[0mThis\u001b[0m \u001b[0;32mis\u001b[0m \u001b[0ma\u001b[0m \u001b[0mwrapper\u001b[0m \u001b[0;32mfor\u001b[0m \u001b[0mpygraphviz_layout\u001b[0m\u001b[0;34m.\u001b[0m\u001b[0;34m\u001b[0m\u001b[0;34m\u001b[0m\u001b[0m\n\u001b[1;32m    242\u001b[0m     \"\"\"\n\u001b[0;32m--> 243\u001b[0;31m     \u001b[0;32mreturn\u001b[0m \u001b[0mpygraphviz_layout\u001b[0m\u001b[0;34m(\u001b[0m\u001b[0mG\u001b[0m\u001b[0;34m,\u001b[0m \u001b[0mprog\u001b[0m\u001b[0;34m=\u001b[0m\u001b[0mprog\u001b[0m\u001b[0;34m,\u001b[0m \u001b[0mroot\u001b[0m\u001b[0;34m=\u001b[0m\u001b[0mroot\u001b[0m\u001b[0;34m,\u001b[0m \u001b[0margs\u001b[0m\u001b[0;34m=\u001b[0m\u001b[0margs\u001b[0m\u001b[0;34m)\u001b[0m\u001b[0;34m\u001b[0m\u001b[0;34m\u001b[0m\u001b[0m\n\u001b[0m\u001b[1;32m    244\u001b[0m \u001b[0;34m\u001b[0m\u001b[0m\n\u001b[1;32m    245\u001b[0m \u001b[0;34m\u001b[0m\u001b[0m\n",
      "\u001b[0;32m//anaconda3/lib/python3.7/site-packages/networkx/drawing/nx_agraph.py\u001b[0m in \u001b[0;36mpygraphviz_layout\u001b[0;34m(G, prog, root, args)\u001b[0m\n\u001b[1;32m    284\u001b[0m     \u001b[0;32mexcept\u001b[0m \u001b[0mImportError\u001b[0m\u001b[0;34m:\u001b[0m\u001b[0;34m\u001b[0m\u001b[0;34m\u001b[0m\u001b[0m\n\u001b[1;32m    285\u001b[0m         raise ImportError('requires pygraphviz ',\n\u001b[0;32m--> 286\u001b[0;31m                           'http://pygraphviz.github.io/')\n\u001b[0m\u001b[1;32m    287\u001b[0m     \u001b[0;32mif\u001b[0m \u001b[0mroot\u001b[0m \u001b[0;32mis\u001b[0m \u001b[0;32mnot\u001b[0m \u001b[0;32mNone\u001b[0m\u001b[0;34m:\u001b[0m\u001b[0;34m\u001b[0m\u001b[0;34m\u001b[0m\u001b[0m\n\u001b[1;32m    288\u001b[0m         \u001b[0margs\u001b[0m \u001b[0;34m+=\u001b[0m \u001b[0;34m\"-Groot=%s\"\u001b[0m \u001b[0;34m%\u001b[0m \u001b[0mroot\u001b[0m\u001b[0;34m\u001b[0m\u001b[0;34m\u001b[0m\u001b[0m\n",
      "\u001b[0;31mImportError\u001b[0m: ('requires pygraphviz ', 'http://pygraphviz.github.io/')"
     ]
    },
    {
     "data": {
      "text/plain": [
       "<Figure size 1080x1080 with 0 Axes>"
      ]
     },
     "metadata": {},
     "output_type": "display_data"
    },
    {
     "name": "stdout",
     "output_type": "stream",
     "text": [
      "graphdraw МАТЬ\n",
      "['ИГУМЕН МОНАСТЫРЯ', ' ИГУМЕНЬЯ МОНАСТЫРЯ', ' МАТЬ-ИГУМЕНЬЯ', ' ОТЕЦ-ИГУМЕН', ' ИГУМЕНЬЯ', ' ИГУМЕН']\n",
      "['МОЛОЧНАЯ МАТЬ', ' КОРМИЛИЦА']\n",
      "['СПОСОБНОСТЬ ПОНИМАТЬ ЗНАЧЕНИЕ СВОИХ ДЕЙСТВИЙ', ' ВМЕНЯЕМОСТЬ']\n",
      "['СПОСОБНОСТЬ ПОНИМАТЬ ЗНАЧЕНИЕ СВОИХ ДЕЙСТВИЙ', ' ВМЕНЯЕМОСТЬ']\n",
      "['СУРМАМА', ' СУРРОГАТНАЯ МАМА', ' СУРРОГАТНАЯ МАТЬ', ' СУРРОГАТНОЕ МАТЕРИНСТВО']\n",
      "['СВЕКРОВЬ', ' МАТЬ МУЖА']\n",
      "['МАТЬ ЖЕНЫ', ' ТЕЩА']\n"
     ]
    },
    {
     "ename": "ImportError",
     "evalue": "('requires pygraphviz ', 'http://pygraphviz.github.io/')",
     "output_type": "error",
     "traceback": [
      "\u001b[0;31m---------------------------------------------------------------------------\u001b[0m",
      "\u001b[0;31mModuleNotFoundError\u001b[0m                       Traceback (most recent call last)",
      "\u001b[0;32m//anaconda3/lib/python3.7/site-packages/networkx/drawing/nx_agraph.py\u001b[0m in \u001b[0;36mpygraphviz_layout\u001b[0;34m(G, prog, root, args)\u001b[0m\n\u001b[1;32m    282\u001b[0m     \u001b[0;32mtry\u001b[0m\u001b[0;34m:\u001b[0m\u001b[0;34m\u001b[0m\u001b[0;34m\u001b[0m\u001b[0m\n\u001b[0;32m--> 283\u001b[0;31m         \u001b[0;32mimport\u001b[0m \u001b[0mpygraphviz\u001b[0m\u001b[0;34m\u001b[0m\u001b[0;34m\u001b[0m\u001b[0m\n\u001b[0m\u001b[1;32m    284\u001b[0m     \u001b[0;32mexcept\u001b[0m \u001b[0mImportError\u001b[0m\u001b[0;34m:\u001b[0m\u001b[0;34m\u001b[0m\u001b[0;34m\u001b[0m\u001b[0m\n",
      "\u001b[0;31mModuleNotFoundError\u001b[0m: No module named 'pygraphviz'",
      "\nDuring handling of the above exception, another exception occurred:\n",
      "\u001b[0;31mImportError\u001b[0m                               Traceback (most recent call last)",
      "\u001b[0;32m<ipython-input-4-e5b79d45fa5b>\u001b[0m in \u001b[0;36mgraphdraw\u001b[0;34m(b)\u001b[0m\n\u001b[1;32m     33\u001b[0m \u001b[0;34m\u001b[0m\u001b[0m\n\u001b[1;32m     34\u001b[0m     \u001b[0mplt\u001b[0m\u001b[0;34m.\u001b[0m\u001b[0mfigure\u001b[0m\u001b[0;34m(\u001b[0m\u001b[0mfigsize\u001b[0m\u001b[0;34m=\u001b[0m\u001b[0;34m(\u001b[0m\u001b[0;36m15\u001b[0m\u001b[0;34m,\u001b[0m\u001b[0;36m15\u001b[0m\u001b[0;34m)\u001b[0m\u001b[0;34m)\u001b[0m\u001b[0;34m\u001b[0m\u001b[0;34m\u001b[0m\u001b[0m\n\u001b[0;32m---> 35\u001b[0;31m     \u001b[0mpos\u001b[0m \u001b[0;34m=\u001b[0m \u001b[0mnx\u001b[0m\u001b[0;34m.\u001b[0m\u001b[0mnx_agraph\u001b[0m\u001b[0;34m.\u001b[0m\u001b[0mgraphviz_layout\u001b[0m\u001b[0;34m(\u001b[0m\u001b[0mg\u001b[0m\u001b[0;34m)\u001b[0m\u001b[0;34m\u001b[0m\u001b[0;34m\u001b[0m\u001b[0m\n\u001b[0m\u001b[1;32m     36\u001b[0m     \u001b[0mnx\u001b[0m\u001b[0;34m.\u001b[0m\u001b[0mdraw\u001b[0m\u001b[0;34m(\u001b[0m\u001b[0mg\u001b[0m\u001b[0;34m,\u001b[0m\u001b[0mwith_labels\u001b[0m\u001b[0;34m=\u001b[0m\u001b[0;32mTrue\u001b[0m\u001b[0;34m,\u001b[0m\u001b[0mpos\u001b[0m\u001b[0;34m=\u001b[0m\u001b[0mpos\u001b[0m\u001b[0;34m)\u001b[0m\u001b[0;34m\u001b[0m\u001b[0;34m\u001b[0m\u001b[0m\n\u001b[1;32m     37\u001b[0m \u001b[0;31m#     edge_labels=nx.draw_networkx_edge_labels(g,pos=pos)\u001b[0m\u001b[0;34m\u001b[0m\u001b[0;34m\u001b[0m\u001b[0;34m\u001b[0m\u001b[0m\n",
      "\u001b[0;32m//anaconda3/lib/python3.7/site-packages/networkx/drawing/nx_agraph.py\u001b[0m in \u001b[0;36mgraphviz_layout\u001b[0;34m(G, prog, root, args)\u001b[0m\n\u001b[1;32m    241\u001b[0m     \u001b[0mThis\u001b[0m \u001b[0;32mis\u001b[0m \u001b[0ma\u001b[0m \u001b[0mwrapper\u001b[0m \u001b[0;32mfor\u001b[0m \u001b[0mpygraphviz_layout\u001b[0m\u001b[0;34m.\u001b[0m\u001b[0;34m\u001b[0m\u001b[0;34m\u001b[0m\u001b[0m\n\u001b[1;32m    242\u001b[0m     \"\"\"\n\u001b[0;32m--> 243\u001b[0;31m     \u001b[0;32mreturn\u001b[0m \u001b[0mpygraphviz_layout\u001b[0m\u001b[0;34m(\u001b[0m\u001b[0mG\u001b[0m\u001b[0;34m,\u001b[0m \u001b[0mprog\u001b[0m\u001b[0;34m=\u001b[0m\u001b[0mprog\u001b[0m\u001b[0;34m,\u001b[0m \u001b[0mroot\u001b[0m\u001b[0;34m=\u001b[0m\u001b[0mroot\u001b[0m\u001b[0;34m,\u001b[0m \u001b[0margs\u001b[0m\u001b[0;34m=\u001b[0m\u001b[0margs\u001b[0m\u001b[0;34m)\u001b[0m\u001b[0;34m\u001b[0m\u001b[0;34m\u001b[0m\u001b[0m\n\u001b[0m\u001b[1;32m    244\u001b[0m \u001b[0;34m\u001b[0m\u001b[0m\n\u001b[1;32m    245\u001b[0m \u001b[0;34m\u001b[0m\u001b[0m\n",
      "\u001b[0;32m//anaconda3/lib/python3.7/site-packages/networkx/drawing/nx_agraph.py\u001b[0m in \u001b[0;36mpygraphviz_layout\u001b[0;34m(G, prog, root, args)\u001b[0m\n\u001b[1;32m    284\u001b[0m     \u001b[0;32mexcept\u001b[0m \u001b[0mImportError\u001b[0m\u001b[0;34m:\u001b[0m\u001b[0;34m\u001b[0m\u001b[0;34m\u001b[0m\u001b[0m\n\u001b[1;32m    285\u001b[0m         raise ImportError('requires pygraphviz ',\n\u001b[0;32m--> 286\u001b[0;31m                           'http://pygraphviz.github.io/')\n\u001b[0m\u001b[1;32m    287\u001b[0m     \u001b[0;32mif\u001b[0m \u001b[0mroot\u001b[0m \u001b[0;32mis\u001b[0m \u001b[0;32mnot\u001b[0m \u001b[0;32mNone\u001b[0m\u001b[0;34m:\u001b[0m\u001b[0;34m\u001b[0m\u001b[0;34m\u001b[0m\u001b[0m\n\u001b[1;32m    288\u001b[0m         \u001b[0margs\u001b[0m \u001b[0;34m+=\u001b[0m \u001b[0;34m\"-Groot=%s\"\u001b[0m \u001b[0;34m%\u001b[0m \u001b[0mroot\u001b[0m\u001b[0;34m\u001b[0m\u001b[0;34m\u001b[0m\u001b[0m\n",
      "\u001b[0;31mImportError\u001b[0m: ('requires pygraphviz ', 'http://pygraphviz.github.io/')"
     ]
    },
    {
     "data": {
      "text/plain": [
       "<Figure size 1080x1080 with 0 Axes>"
      ]
     },
     "metadata": {},
     "output_type": "display_data"
    },
    {
     "name": "stdout",
     "output_type": "stream",
     "text": [
      "graphdraw МАТЬ\n",
      "['ИГУМЕН МОНАСТЫРЯ', ' ИГУМЕНЬЯ МОНАСТЫРЯ', ' МАТЬ-ИГУМЕНЬЯ', ' ОТЕЦ-ИГУМЕН', ' ИГУМЕНЬЯ', ' ИГУМЕН']\n",
      "['МОЛОЧНАЯ МАТЬ', ' КОРМИЛИЦА']\n",
      "['СПОСОБНОСТЬ ПОНИМАТЬ ЗНАЧЕНИЕ СВОИХ ДЕЙСТВИЙ', ' ВМЕНЯЕМОСТЬ']\n",
      "['СПОСОБНОСТЬ ПОНИМАТЬ ЗНАЧЕНИЕ СВОИХ ДЕЙСТВИЙ', ' ВМЕНЯЕМОСТЬ']\n",
      "['СУРМАМА', ' СУРРОГАТНАЯ МАМА', ' СУРРОГАТНАЯ МАТЬ', ' СУРРОГАТНОЕ МАТЕРИНСТВО']\n",
      "['СВЕКРОВЬ', ' МАТЬ МУЖА']\n",
      "['МАТЬ ЖЕНЫ', ' ТЕЩА']\n"
     ]
    },
    {
     "ename": "ImportError",
     "evalue": "('requires pygraphviz ', 'http://pygraphviz.github.io/')",
     "output_type": "error",
     "traceback": [
      "\u001b[0;31m---------------------------------------------------------------------------\u001b[0m",
      "\u001b[0;31mModuleNotFoundError\u001b[0m                       Traceback (most recent call last)",
      "\u001b[0;32m//anaconda3/lib/python3.7/site-packages/networkx/drawing/nx_agraph.py\u001b[0m in \u001b[0;36mpygraphviz_layout\u001b[0;34m(G, prog, root, args)\u001b[0m\n\u001b[1;32m    282\u001b[0m     \u001b[0;32mtry\u001b[0m\u001b[0;34m:\u001b[0m\u001b[0;34m\u001b[0m\u001b[0;34m\u001b[0m\u001b[0m\n\u001b[0;32m--> 283\u001b[0;31m         \u001b[0;32mimport\u001b[0m \u001b[0mpygraphviz\u001b[0m\u001b[0;34m\u001b[0m\u001b[0;34m\u001b[0m\u001b[0m\n\u001b[0m\u001b[1;32m    284\u001b[0m     \u001b[0;32mexcept\u001b[0m \u001b[0mImportError\u001b[0m\u001b[0;34m:\u001b[0m\u001b[0;34m\u001b[0m\u001b[0;34m\u001b[0m\u001b[0m\n",
      "\u001b[0;31mModuleNotFoundError\u001b[0m: No module named 'pygraphviz'",
      "\nDuring handling of the above exception, another exception occurred:\n",
      "\u001b[0;31mImportError\u001b[0m                               Traceback (most recent call last)",
      "\u001b[0;32m<ipython-input-4-e5b79d45fa5b>\u001b[0m in \u001b[0;36mgraphdraw\u001b[0;34m(b)\u001b[0m\n\u001b[1;32m     33\u001b[0m \u001b[0;34m\u001b[0m\u001b[0m\n\u001b[1;32m     34\u001b[0m     \u001b[0mplt\u001b[0m\u001b[0;34m.\u001b[0m\u001b[0mfigure\u001b[0m\u001b[0;34m(\u001b[0m\u001b[0mfigsize\u001b[0m\u001b[0;34m=\u001b[0m\u001b[0;34m(\u001b[0m\u001b[0;36m15\u001b[0m\u001b[0;34m,\u001b[0m\u001b[0;36m15\u001b[0m\u001b[0;34m)\u001b[0m\u001b[0;34m)\u001b[0m\u001b[0;34m\u001b[0m\u001b[0;34m\u001b[0m\u001b[0m\n\u001b[0;32m---> 35\u001b[0;31m     \u001b[0mpos\u001b[0m \u001b[0;34m=\u001b[0m \u001b[0mnx\u001b[0m\u001b[0;34m.\u001b[0m\u001b[0mnx_agraph\u001b[0m\u001b[0;34m.\u001b[0m\u001b[0mgraphviz_layout\u001b[0m\u001b[0;34m(\u001b[0m\u001b[0mg\u001b[0m\u001b[0;34m)\u001b[0m\u001b[0;34m\u001b[0m\u001b[0;34m\u001b[0m\u001b[0m\n\u001b[0m\u001b[1;32m     36\u001b[0m     \u001b[0mnx\u001b[0m\u001b[0;34m.\u001b[0m\u001b[0mdraw\u001b[0m\u001b[0;34m(\u001b[0m\u001b[0mg\u001b[0m\u001b[0;34m,\u001b[0m\u001b[0mwith_labels\u001b[0m\u001b[0;34m=\u001b[0m\u001b[0;32mTrue\u001b[0m\u001b[0;34m,\u001b[0m\u001b[0mpos\u001b[0m\u001b[0;34m=\u001b[0m\u001b[0mpos\u001b[0m\u001b[0;34m)\u001b[0m\u001b[0;34m\u001b[0m\u001b[0;34m\u001b[0m\u001b[0m\n\u001b[1;32m     37\u001b[0m \u001b[0;31m#     edge_labels=nx.draw_networkx_edge_labels(g,pos=pos)\u001b[0m\u001b[0;34m\u001b[0m\u001b[0;34m\u001b[0m\u001b[0;34m\u001b[0m\u001b[0m\n",
      "\u001b[0;32m//anaconda3/lib/python3.7/site-packages/networkx/drawing/nx_agraph.py\u001b[0m in \u001b[0;36mgraphviz_layout\u001b[0;34m(G, prog, root, args)\u001b[0m\n\u001b[1;32m    241\u001b[0m     \u001b[0mThis\u001b[0m \u001b[0;32mis\u001b[0m \u001b[0ma\u001b[0m \u001b[0mwrapper\u001b[0m \u001b[0;32mfor\u001b[0m \u001b[0mpygraphviz_layout\u001b[0m\u001b[0;34m.\u001b[0m\u001b[0;34m\u001b[0m\u001b[0;34m\u001b[0m\u001b[0m\n\u001b[1;32m    242\u001b[0m     \"\"\"\n\u001b[0;32m--> 243\u001b[0;31m     \u001b[0;32mreturn\u001b[0m \u001b[0mpygraphviz_layout\u001b[0m\u001b[0;34m(\u001b[0m\u001b[0mG\u001b[0m\u001b[0;34m,\u001b[0m \u001b[0mprog\u001b[0m\u001b[0;34m=\u001b[0m\u001b[0mprog\u001b[0m\u001b[0;34m,\u001b[0m \u001b[0mroot\u001b[0m\u001b[0;34m=\u001b[0m\u001b[0mroot\u001b[0m\u001b[0;34m,\u001b[0m \u001b[0margs\u001b[0m\u001b[0;34m=\u001b[0m\u001b[0margs\u001b[0m\u001b[0;34m)\u001b[0m\u001b[0;34m\u001b[0m\u001b[0;34m\u001b[0m\u001b[0m\n\u001b[0m\u001b[1;32m    244\u001b[0m \u001b[0;34m\u001b[0m\u001b[0m\n\u001b[1;32m    245\u001b[0m \u001b[0;34m\u001b[0m\u001b[0m\n",
      "\u001b[0;32m//anaconda3/lib/python3.7/site-packages/networkx/drawing/nx_agraph.py\u001b[0m in \u001b[0;36mpygraphviz_layout\u001b[0;34m(G, prog, root, args)\u001b[0m\n\u001b[1;32m    284\u001b[0m     \u001b[0;32mexcept\u001b[0m \u001b[0mImportError\u001b[0m\u001b[0;34m:\u001b[0m\u001b[0;34m\u001b[0m\u001b[0;34m\u001b[0m\u001b[0m\n\u001b[1;32m    285\u001b[0m         raise ImportError('requires pygraphviz ',\n\u001b[0;32m--> 286\u001b[0;31m                           'http://pygraphviz.github.io/')\n\u001b[0m\u001b[1;32m    287\u001b[0m     \u001b[0;32mif\u001b[0m \u001b[0mroot\u001b[0m \u001b[0;32mis\u001b[0m \u001b[0;32mnot\u001b[0m \u001b[0;32mNone\u001b[0m\u001b[0;34m:\u001b[0m\u001b[0;34m\u001b[0m\u001b[0;34m\u001b[0m\u001b[0m\n\u001b[1;32m    288\u001b[0m         \u001b[0margs\u001b[0m \u001b[0;34m+=\u001b[0m \u001b[0;34m\"-Groot=%s\"\u001b[0m \u001b[0;34m%\u001b[0m \u001b[0mroot\u001b[0m\u001b[0;34m\u001b[0m\u001b[0;34m\u001b[0m\u001b[0m\n",
      "\u001b[0;31mImportError\u001b[0m: ('requires pygraphviz ', 'http://pygraphviz.github.io/')"
     ]
    },
    {
     "data": {
      "text/plain": [
       "<Figure size 1080x1080 with 0 Axes>"
      ]
     },
     "metadata": {},
     "output_type": "display_data"
    },
    {
     "name": "stdout",
     "output_type": "stream",
     "text": [
      "graphdraw МАТЬ\n",
      "['ИГУМЕН МОНАСТЫРЯ', ' ИГУМЕНЬЯ МОНАСТЫРЯ', ' МАТЬ-ИГУМЕНЬЯ', ' ОТЕЦ-ИГУМЕН', ' ИГУМЕНЬЯ', ' ИГУМЕН']\n",
      "['МОЛОЧНАЯ МАТЬ', ' КОРМИЛИЦА']\n",
      "['СПОСОБНОСТЬ ПОНИМАТЬ ЗНАЧЕНИЕ СВОИХ ДЕЙСТВИЙ', ' ВМЕНЯЕМОСТЬ']\n",
      "['СПОСОБНОСТЬ ПОНИМАТЬ ЗНАЧЕНИЕ СВОИХ ДЕЙСТВИЙ', ' ВМЕНЯЕМОСТЬ']\n",
      "['СУРМАМА', ' СУРРОГАТНАЯ МАМА', ' СУРРОГАТНАЯ МАТЬ', ' СУРРОГАТНОЕ МАТЕРИНСТВО']\n",
      "['СВЕКРОВЬ', ' МАТЬ МУЖА']\n",
      "['МАТЬ ЖЕНЫ', ' ТЕЩА']\n"
     ]
    },
    {
     "ename": "ImportError",
     "evalue": "('requires pygraphviz ', 'http://pygraphviz.github.io/')",
     "output_type": "error",
     "traceback": [
      "\u001b[0;31m---------------------------------------------------------------------------\u001b[0m",
      "\u001b[0;31mModuleNotFoundError\u001b[0m                       Traceback (most recent call last)",
      "\u001b[0;32m//anaconda3/lib/python3.7/site-packages/networkx/drawing/nx_agraph.py\u001b[0m in \u001b[0;36mpygraphviz_layout\u001b[0;34m(G, prog, root, args)\u001b[0m\n\u001b[1;32m    282\u001b[0m     \u001b[0;32mtry\u001b[0m\u001b[0;34m:\u001b[0m\u001b[0;34m\u001b[0m\u001b[0;34m\u001b[0m\u001b[0m\n\u001b[0;32m--> 283\u001b[0;31m         \u001b[0;32mimport\u001b[0m \u001b[0mpygraphviz\u001b[0m\u001b[0;34m\u001b[0m\u001b[0;34m\u001b[0m\u001b[0m\n\u001b[0m\u001b[1;32m    284\u001b[0m     \u001b[0;32mexcept\u001b[0m \u001b[0mImportError\u001b[0m\u001b[0;34m:\u001b[0m\u001b[0;34m\u001b[0m\u001b[0;34m\u001b[0m\u001b[0m\n",
      "\u001b[0;31mModuleNotFoundError\u001b[0m: No module named 'pygraphviz'",
      "\nDuring handling of the above exception, another exception occurred:\n",
      "\u001b[0;31mImportError\u001b[0m                               Traceback (most recent call last)",
      "\u001b[0;32m<ipython-input-4-e5b79d45fa5b>\u001b[0m in \u001b[0;36mgraphdraw\u001b[0;34m(b)\u001b[0m\n\u001b[1;32m     33\u001b[0m \u001b[0;34m\u001b[0m\u001b[0m\n\u001b[1;32m     34\u001b[0m     \u001b[0mplt\u001b[0m\u001b[0;34m.\u001b[0m\u001b[0mfigure\u001b[0m\u001b[0;34m(\u001b[0m\u001b[0mfigsize\u001b[0m\u001b[0;34m=\u001b[0m\u001b[0;34m(\u001b[0m\u001b[0;36m15\u001b[0m\u001b[0;34m,\u001b[0m\u001b[0;36m15\u001b[0m\u001b[0;34m)\u001b[0m\u001b[0;34m)\u001b[0m\u001b[0;34m\u001b[0m\u001b[0;34m\u001b[0m\u001b[0m\n\u001b[0;32m---> 35\u001b[0;31m     \u001b[0mpos\u001b[0m \u001b[0;34m=\u001b[0m \u001b[0mnx\u001b[0m\u001b[0;34m.\u001b[0m\u001b[0mnx_agraph\u001b[0m\u001b[0;34m.\u001b[0m\u001b[0mgraphviz_layout\u001b[0m\u001b[0;34m(\u001b[0m\u001b[0mg\u001b[0m\u001b[0;34m)\u001b[0m\u001b[0;34m\u001b[0m\u001b[0;34m\u001b[0m\u001b[0m\n\u001b[0m\u001b[1;32m     36\u001b[0m     \u001b[0mnx\u001b[0m\u001b[0;34m.\u001b[0m\u001b[0mdraw\u001b[0m\u001b[0;34m(\u001b[0m\u001b[0mg\u001b[0m\u001b[0;34m,\u001b[0m\u001b[0mwith_labels\u001b[0m\u001b[0;34m=\u001b[0m\u001b[0;32mTrue\u001b[0m\u001b[0;34m,\u001b[0m\u001b[0mpos\u001b[0m\u001b[0;34m=\u001b[0m\u001b[0mpos\u001b[0m\u001b[0;34m)\u001b[0m\u001b[0;34m\u001b[0m\u001b[0;34m\u001b[0m\u001b[0m\n\u001b[1;32m     37\u001b[0m \u001b[0;31m#     edge_labels=nx.draw_networkx_edge_labels(g,pos=pos)\u001b[0m\u001b[0;34m\u001b[0m\u001b[0;34m\u001b[0m\u001b[0;34m\u001b[0m\u001b[0m\n",
      "\u001b[0;32m//anaconda3/lib/python3.7/site-packages/networkx/drawing/nx_agraph.py\u001b[0m in \u001b[0;36mgraphviz_layout\u001b[0;34m(G, prog, root, args)\u001b[0m\n\u001b[1;32m    241\u001b[0m     \u001b[0mThis\u001b[0m \u001b[0;32mis\u001b[0m \u001b[0ma\u001b[0m \u001b[0mwrapper\u001b[0m \u001b[0;32mfor\u001b[0m \u001b[0mpygraphviz_layout\u001b[0m\u001b[0;34m.\u001b[0m\u001b[0;34m\u001b[0m\u001b[0;34m\u001b[0m\u001b[0m\n\u001b[1;32m    242\u001b[0m     \"\"\"\n\u001b[0;32m--> 243\u001b[0;31m     \u001b[0;32mreturn\u001b[0m \u001b[0mpygraphviz_layout\u001b[0m\u001b[0;34m(\u001b[0m\u001b[0mG\u001b[0m\u001b[0;34m,\u001b[0m \u001b[0mprog\u001b[0m\u001b[0;34m=\u001b[0m\u001b[0mprog\u001b[0m\u001b[0;34m,\u001b[0m \u001b[0mroot\u001b[0m\u001b[0;34m=\u001b[0m\u001b[0mroot\u001b[0m\u001b[0;34m,\u001b[0m \u001b[0margs\u001b[0m\u001b[0;34m=\u001b[0m\u001b[0margs\u001b[0m\u001b[0;34m)\u001b[0m\u001b[0;34m\u001b[0m\u001b[0;34m\u001b[0m\u001b[0m\n\u001b[0m\u001b[1;32m    244\u001b[0m \u001b[0;34m\u001b[0m\u001b[0m\n\u001b[1;32m    245\u001b[0m \u001b[0;34m\u001b[0m\u001b[0m\n",
      "\u001b[0;32m//anaconda3/lib/python3.7/site-packages/networkx/drawing/nx_agraph.py\u001b[0m in \u001b[0;36mpygraphviz_layout\u001b[0;34m(G, prog, root, args)\u001b[0m\n\u001b[1;32m    284\u001b[0m     \u001b[0;32mexcept\u001b[0m \u001b[0mImportError\u001b[0m\u001b[0;34m:\u001b[0m\u001b[0;34m\u001b[0m\u001b[0;34m\u001b[0m\u001b[0m\n\u001b[1;32m    285\u001b[0m         raise ImportError('requires pygraphviz ',\n\u001b[0;32m--> 286\u001b[0;31m                           'http://pygraphviz.github.io/')\n\u001b[0m\u001b[1;32m    287\u001b[0m     \u001b[0;32mif\u001b[0m \u001b[0mroot\u001b[0m \u001b[0;32mis\u001b[0m \u001b[0;32mnot\u001b[0m \u001b[0;32mNone\u001b[0m\u001b[0;34m:\u001b[0m\u001b[0;34m\u001b[0m\u001b[0;34m\u001b[0m\u001b[0m\n\u001b[1;32m    288\u001b[0m         \u001b[0margs\u001b[0m \u001b[0;34m+=\u001b[0m \u001b[0;34m\"-Groot=%s\"\u001b[0m \u001b[0;34m%\u001b[0m \u001b[0mroot\u001b[0m\u001b[0;34m\u001b[0m\u001b[0;34m\u001b[0m\u001b[0m\n",
      "\u001b[0;31mImportError\u001b[0m: ('requires pygraphviz ', 'http://pygraphviz.github.io/')"
     ]
    },
    {
     "data": {
      "text/plain": [
       "<Figure size 1080x1080 with 0 Axes>"
      ]
     },
     "metadata": {},
     "output_type": "display_data"
    }
   ],
   "source": [
    "button = widgets.Button(description=\"Draw\")\n",
    "query = widgets.Text(\n",
    "    value='МАТЬ',\n",
    "    placeholder='Query',\n",
    "    description='String:',\n",
    "    disabled=False\n",
    ")\n",
    "display(button,query)\n",
    "\n",
    "\n",
    "\n",
    "\n",
    "def creategraph(df):\n",
    "    res = []\n",
    "    for row in df.values:\n",
    "        cohyps = row[1].split(\",\")\n",
    "        for idx,cohyp in enumerate(cohyps):\n",
    "            for parent in json.loads(prestr(row[2])):\n",
    "                res.append((row[0]+'-'+str(idx),parent))\n",
    "    return res\n",
    "\n",
    "def graphdraw(b):\n",
    "    print(\"graphdraw\",query.value)\n",
    "    subset = df[df['TEXT'].str.contains(query.value.upper())]\n",
    "    g = nx.DiGraph()\n",
    "    for el in subset.values:\n",
    "        cohyps = el[1].split(\",\")\n",
    "        print(cohyps)\n",
    "        syns = idx2syns[el[0]]\n",
    "        for child in cohyps:\n",
    "            for parent in json.loads(prestr(el[2])):\n",
    "                ed = g.add_edge(child,idx2syns[parent],label=\"is a\")\n",
    "            \n",
    "    plt.figure(figsize=(15,15))\n",
    "    pos = nx.nx_agraph.graphviz_layout(g)\n",
    "    nx.draw(g,with_labels=True,pos=pos)\n",
    "#     edge_labels=nx.draw_networkx_edge_labels(g,pos=pos)\n",
    "    plt.show()\n",
    "button.on_click(graphdraw)"
   ]
  },
  {
   "cell_type": "markdown",
   "metadata": {},
   "source": [
    "### Pattern extractor\n",
    "\n",
    "Yargy — библиотека для извлечения структурированной информации из текстов на русском языке. Правила описываются контекстно-свободными грамматиками и словарями ключевых слов. Банк готовых правил для имён, дат, адресов и других сущностей доступен в репозитории Natasha.\n",
    "* https://yargy.readthedocs.io/ru/latest/\n",
    "* http://pymorphy2.readthedocs.io/en/latest/user/grammemes.html\n",
    "* https://github.com/natasha/natasha"
   ]
  },
  {
   "cell_type": "markdown",
   "metadata": {},
   "source": [
    "### Токенизатор"
   ]
  },
  {
   "cell_type": "code",
   "execution_count": 5,
   "metadata": {},
   "outputs": [
    {
     "name": "stdout",
     "output_type": "stream",
     "text": [
      "['Ростов', '-', 'на', '-', 'Дону']\n",
      "['Длительностью', '18', 'ч', '.', '10', 'мин', '.']\n",
      "['Яндекс', '.', 'Такси']\n",
      "['π', '≈', '3', '.', '1415']\n",
      "['1', '500', '000', '$']\n",
      "['http', ':', '/', '/', 'vk', '.', 'com']\n"
     ]
    }
   ],
   "source": [
    "from yargy.tokenizer import MorphTokenizer\n",
    "\n",
    "\n",
    "tokenizer = MorphTokenizer()\n",
    "text = '''Ростов-на-Дону\n",
    "Длительностью 18ч. 10мин.\n",
    "Яндекс.Такси\n",
    "π ≈ 3.1415\n",
    "1 500 000$\n",
    "http://vk.com\n",
    "'''\n",
    "for line in text.splitlines():\n",
    "    print([_.value for _ in tokenizer(line)])"
   ]
  },
  {
   "cell_type": "markdown",
   "metadata": {},
   "source": [
    "# Газеттир\n",
    "Газеттир нужен для удобной работы с последовательностью слов. Например, можно написать:"
   ]
  },
  {
   "cell_type": "code",
   "execution_count": 6,
   "metadata": {},
   "outputs": [],
   "source": [
    "from yargy import or_, rule\n",
    "from yargy.predicates import normalized\n",
    "\n",
    "RULE = or_(\n",
    "    rule(normalized('dvd'), '-', normalized('диск')),\n",
    "    rule(normalized('видео'), normalized('файл'))\n",
    ")"
   ]
  },
  {
   "cell_type": "code",
   "execution_count": 7,
   "metadata": {},
   "outputs": [
    {
     "name": "stdout",
     "output_type": "stream",
     "text": [
      "['Видео', 'файл']\n",
      "['dvd', '-', 'диске']\n"
     ]
    }
   ],
   "source": [
    "from yargy import Parser\n",
    "from yargy.pipelines import morph_pipeline\n",
    "\n",
    "\n",
    "RULE = morph_pipeline([\n",
    "    'dvd-диск',\n",
    "    'видео файл',\n",
    "    'видеофильм',\n",
    "    'газета',\n",
    "    'электронный дневник',\n",
    "    'эссе',\n",
    "])\n",
    "\n",
    "parser = Parser(RULE)\n",
    "text = 'Видео файл на dvd-диске'\n",
    "for match in parser.findall(text):\n",
    "    print([_.value for _ in match.tokens])"
   ]
  },
  {
   "cell_type": "code",
   "execution_count": 8,
   "metadata": {},
   "outputs": [
    {
     "name": "stdout",
     "output_type": "stream",
     "text": [
      "['Чеченской', 'республике']\n",
      "['Донецкая', 'народная', 'республика']\n"
     ]
    }
   ],
   "source": [
    "from yargy import Parser, rule, and_\n",
    "from yargy.predicates import gram, is_capitalized, dictionary\n",
    "\n",
    "\n",
    "GEO = rule(\n",
    "    and_(\n",
    "        gram('ADJF'),  # так помечается прилагательное, остальные пометки описаны в\n",
    "                       # http://pymorphy2.readthedocs.io/en/latest/user/grammemes.html\n",
    "        is_capitalized()\n",
    "    ),\n",
    "    gram('ADJF').optional().repeatable(),\n",
    "    dictionary({\n",
    "        'федерация',\n",
    "        'республика'\n",
    "    })\n",
    ")\n",
    "\n",
    "\n",
    "parser = Parser(GEO)\n",
    "text = '''\n",
    "В Чеченской республике на день рождения ...\n",
    "Донецкая народная республика провозгласила ...\n",
    "Башня Федерация — одна из самых высоких ...\n",
    "'''\n",
    "for match in parser.findall(text):\n",
    "    print([_.value for _ in match.tokens])"
   ]
  },
  {
   "cell_type": "markdown",
   "metadata": {},
   "source": [
    "### Предикаты\n",
    "\n",
    "Предикат — функция, которая принимает на вход токен и возвращает True или False. В Yargy встроено много готовых предикатов. Полный список есть в справочнике. Предикаты комбинируются с помощью and_, or_ и not_."
   ]
  },
  {
   "cell_type": "code",
   "execution_count": 9,
   "metadata": {},
   "outputs": [
    {
     "name": "stdout",
     "output_type": "stream",
     "text": [
      "True\n",
      "True\n"
     ]
    }
   ],
   "source": [
    "from yargy import and_, not_\n",
    "from yargy.tokenizer import MorphTokenizer\n",
    "from yargy.predicates import is_capitalized, eq\n",
    "\n",
    "\n",
    "tokenizer = MorphTokenizer()\n",
    "token = next(tokenizer('Стали'))\n",
    "\n",
    "predicate = is_capitalized()\n",
    "print(predicate(token))\n",
    "\n",
    "predicate = and_(\n",
    "    is_capitalized(),\n",
    "    not_(eq('марки'))\n",
    ")\n",
    "print(predicate(token))"
   ]
  },
  {
   "cell_type": "markdown",
   "metadata": {},
   "source": [
    "### Грамматики\n",
    "В Yargy используется специальный DSL для описания грамматик. Любую контекстно-свободную грамматику можно описать с помощью конструкций Питона. Например, есть примитивная грамматика для размеров одежды:\n",
    "\n",
    "KEY -> р. | размер\n",
    "\n",
    "VALUE -> S | M | L\n",
    "\n",
    "SIZE -> KEY VALUE\n",
    "\n"
   ]
  },
  {
   "cell_type": "code",
   "execution_count": 10,
   "metadata": {},
   "outputs": [
    {
     "data": {
      "text/plain": [
       "SIZE -> KEY VALUE\n",
       "KEY -> 'р' '.' | 'размер'\n",
       "VALUE -> 'S' | 'M' | 'L' | 'XS'\n"
      ]
     },
     "execution_count": 10,
     "metadata": {},
     "output_type": "execute_result"
    }
   ],
   "source": [
    "from yargy import rule, or_\n",
    "\n",
    "\n",
    "KEY = or_(\n",
    "    rule('р', '.'),\n",
    "    rule('размер')\n",
    ").named('KEY')\n",
    "VALUE = or_(\n",
    "    rule('S'),\n",
    "    rule('M'),\n",
    "    rule('L'),\n",
    "    rule('XS'),\n",
    ").named('VALUE')\n",
    "SIZE = rule(\n",
    "    KEY,\n",
    "    VALUE\n",
    ").named('SIZE')\n",
    "SIZE.normalized.as_bnf"
   ]
  },
  {
   "cell_type": "code",
   "execution_count": 11,
   "metadata": {},
   "outputs": [
    {
     "name": "stdout",
     "output_type": "stream",
     "text": [
      "['размер', 'M']\n",
      "['размер', 'XS']\n"
     ]
    }
   ],
   "source": [
    "parser = Parser(\n",
    "    SIZE\n",
    ")\n",
    "text = 'размер M; размер A; размер XS;'\n",
    "for match in parser.findall(text):\n",
    "    print([_.value for _ in match.tokens])"
   ]
  },
  {
   "cell_type": "code",
   "execution_count": 12,
   "metadata": {},
   "outputs": [],
   "source": [
    "from yargy import Parser, rule, and_, or_, not_\n",
    "from yargy.interpretation import fact, attribute\n",
    "from yargy.predicates import gram, is_capitalized, dictionary, eq\n",
    "import re\n",
    "import pandas as pd\n",
    "from tqdm import tqdm_notebook\n",
    "from gensim import utils"
   ]
  },
  {
   "cell_type": "code",
   "execution_count": 13,
   "metadata": {},
   "outputs": [],
   "source": [
    "\n",
    "START = rule(\n",
    "    or_(\n",
    "        rule(gram('ADJF')),\n",
    "        rule(gram('NOUN'))\n",
    "    ).optional(),\n",
    "    gram('NOUN')\n",
    ")\n",
    "\n",
    "START_S = or_(\n",
    "    eq('такой'),\n",
    "    eq('такие'),\n",
    ")\n",
    "\n",
    "KAK = eq('как')\n",
    "INCLUDING = or_(\n",
    "    or_(\n",
    "        eq('в'),\n",
    "        eq('том'),\n",
    "        eq('числе'),\n",
    "    ),\n",
    "    eq('включающий'),\n",
    "    or_(\n",
    "        eq('включающий'),\n",
    "        eq('в'),\n",
    "        eq('себя'),\n",
    "    ),\n",
    "    or_(\n",
    "        eq('включающие'),\n",
    "        eq('в'),\n",
    "        eq('себя'),\n",
    "    ),\n",
    "    eq('включающие'),\n",
    "    eq('особенно'),\n",
    "\n",
    ")\n",
    "\n",
    "MID_S = or_(\n",
    "    rule(\n",
    "        or_(\n",
    "            eq('такой'),\n",
    "            eq('такие'),\n",
    "        ),\n",
    "        eq('как')\n",
    "    )\n",
    ")\n",
    "ATAKJE = rule(\n",
    "    eq(','),\n",
    "    eq('а'),\n",
    "    eq('также')\n",
    ")\n",
    "\n",
    "MID = or_(\n",
    "    rule(\n",
    "        eq('это')\n",
    "    ),\n",
    "    rule(\n",
    "        eq('—')\n",
    "    ),\n",
    "    rule(\n",
    "        eq('—'),\n",
    "        eq('это')\n",
    "    ),\n",
    "    rule(\n",
    "        eq('—'),\n",
    "        not_(eq('км'))\n",
    "    ),\n",
    "    rule(\n",
    "        or_(\n",
    "            eq('и'),\n",
    "            eq('или'),\n",
    "        ),\n",
    "        eq('другие')\n",
    "    )\n",
    ")\n",
    "\n",
    "END = or_(\n",
    "    rule(\n",
    "        gram('NOUN'),\n",
    "        gram('NOUN')\n",
    "    ),\n",
    "    rule(\n",
    "        gram('ADJF').repeatable(),\n",
    "        gram('NOUN')\n",
    "    ),\n",
    "    rule(\n",
    "        gram('ADJF'),\n",
    "        gram('ADJF').repeatable(),\n",
    "        gram('NOUN')\n",
    "    ),\n",
    "    rule(\n",
    "        gram('NOUN').repeatable(),\n",
    "        gram('ADJF'),\n",
    "        gram('NOUN').repeatable()\n",
    "    ),\n",
    "    rule(\n",
    "        gram('NOUN').repeatable()\n",
    "    )\n",
    ")\n",
    "\n",
    "Item = fact(\n",
    "    'Item',\n",
    "    [attribute('titles').repeatable()]\n",
    ")\n",
    "\n",
    "\n",
    "IGNORE = rule(\n",
    "    '(',\n",
    "    not_(eq(')')).repeatable(),\n",
    "    ')'\n",
    ")\n",
    "\n",
    "ITEM = rule(\n",
    "    IGNORE.interpretation(\n",
    "        Item.titles\n",
    "    ),\n",
    "    eq(',').optional() \n",
    ").repeatable().interpretation(\n",
    "    Item\n",
    ")"
   ]
  },
  {
   "cell_type": "code",
   "execution_count": 14,
   "metadata": {},
   "outputs": [],
   "source": [
    "def get_hyperonyms(main_word):\n",
    "    HYPONYM = eq(utils.deaccent(main_word.lower()))\n",
    "    RULE = or_(\n",
    "        rule(HYPONYM, ATAKJE, START, MID, END),\n",
    "        rule(HYPONYM, MID, END),\n",
    "        rule(START_S, END, KAK, HYPONYM),\n",
    "        rule(END, INCLUDING, HYPONYM)\n",
    "    )\n",
    "    parser = Parser(RULE) \n",
    "    text = utils.deaccent(wikipedia.summary(main_word))\n",
    "    print(text)\n",
    "    text = re.sub(r'\\(.+?\\)', '', text)\n",
    "    text = text.lower().replace('* сергии радонежскии* ', '')\n",
    "    for idx, match in enumerate(parser.findall(text.lower())):\n",
    "        k = [_.value for _ in match.tokens]\n",
    "        print(k)"
   ]
  },
  {
   "cell_type": "code",
   "execution_count": 15,
   "metadata": {},
   "outputs": [
    {
     "name": "stdout",
     "output_type": "stream",
     "text": [
      "Вулканизация — технологическии процесс взаимодеиствия каучуков с вулканизирующим реагентом, при котором происходит сшивание молекул каучука в единую пространственную сетку. При этом повышаются прочностные характеристики каучука, его твердость и эластичность, снижаются пластические своиства, степень набухания и растворимость в органических растворителях. Вулканизующими реагентами могут являться: сера, пероксиды, оксиды металлов, соединения аминного типа и др. Для повышения скорости вулканизации используют различные катализаторы-ускорители.\n",
      "Открыл процесс вулканизации Чарльз Гудьир, запатентовавшии его в 1844 году. Процесс назван в честь Вулкана, древнеримского бога огня.\n",
      "В процессе вулканизации каучук становится резинои.\n",
      "Вулканизации подвергается обычно смесь каучука с различными компонентами, обеспечивающими необходимые эксплуатационные своиства резин: наполнителями (техническии углерод, мел, каолин, полидисперсная кремнекислота и т. д.), пластификаторами (нефтяные и талловые масла, фактис, дибутилфталат и т. д.), противостарителями (бисфенолы, диамины и т. д.), ускорителями вулканизации (ксантогенатами, тиазолами, сульфенамидами и т. д.), активаторами вулканизации (оксидом цинка, оксидом магния и т. д.), замедлителями подвулканизации (фталевыи ангидрид, N-нитрозодифениламин и т. д.).\n",
      "['вулканизация', '—', 'технологическии', 'процесс', 'взаимодеиствия', 'каучуков', 'с']\n"
     ]
    }
   ],
   "source": [
    "get_hyperonyms(\"ВУЛКАНИЗАЦИЯ\")"
   ]
  },
  {
   "cell_type": "markdown",
   "metadata": {},
   "source": [
    "#### Task 1 (deadline 19.02.2020 24:00)\n",
    "* Find your name on the spreadsheet https://docs.google.com/spreadsheets/d/1RR2I6toCkebbGU1UK83HS70Ru_l0_o-nnZIHyiFB0No/edit?usp=sharing. In opposite of your name there are 24 words of hyponyms, you have to insert five corresponding hypernyms next to them. Examples of hyponyms and hyperonyms relationship you can find above in the current Jupiter notebook.\n",
    "* Find for each pair of hyponyms and hypernyms a corresponding snippet of a text with their mentions. The source of the text can be any free resources, e.g., Wikipedia, Google, Yandex, others. You should save the snippets and their URLs within the lab2 folder in your NLP git-repo with .csv file-extension in a single file.\n",
    "\n",
    "#### Task 2 (deadline 26.02.2020 24:00)\n",
    "* It would be best if you created a pandas DataFrame of the texts from the previous task. And apply to the DataFrame the function 'get_hyperonyms,' which must return the list of the corresponding hypernyms from the text automatically. If there are errors or misses, you should fix them in the code for your case of the 24 words. Nevertheless, it is strictly prohibited to use hard coding. Save your notebook with parser code within the lab2 folder in your NLP git-repo."
   ]
  },
  {
   "cell_type": "code",
   "execution_count": 16,
   "metadata": {},
   "outputs": [
    {
     "data": {
      "text/html": [
       "<div>\n",
       "<style scoped>\n",
       "    .dataframe tbody tr th:only-of-type {\n",
       "        vertical-align: middle;\n",
       "    }\n",
       "\n",
       "    .dataframe tbody tr th {\n",
       "        vertical-align: top;\n",
       "    }\n",
       "\n",
       "    .dataframe thead th {\n",
       "        text-align: right;\n",
       "    }\n",
       "</style>\n",
       "<table border=\"1\" class=\"dataframe\">\n",
       "  <thead>\n",
       "    <tr style=\"text-align: right;\">\n",
       "      <th></th>\n",
       "      <th>HYPONYM</th>\n",
       "    </tr>\n",
       "  </thead>\n",
       "  <tbody>\n",
       "    <tr>\n",
       "      <th>0</th>\n",
       "      <td>ВСХОЖЕСТЬ</td>\n",
       "    </tr>\n",
       "    <tr>\n",
       "      <th>1</th>\n",
       "      <td>ВУАЙЕРИЗМ</td>\n",
       "    </tr>\n",
       "    <tr>\n",
       "      <th>2</th>\n",
       "      <td>ВУЛКАНИЗАЦИЯ</td>\n",
       "    </tr>\n",
       "    <tr>\n",
       "      <th>3</th>\n",
       "      <td>ВЫБОРЩИК</td>\n",
       "    </tr>\n",
       "    <tr>\n",
       "      <th>4</th>\n",
       "      <td>ВЫВОДОК</td>\n",
       "    </tr>\n",
       "  </tbody>\n",
       "</table>\n",
       "</div>"
      ],
      "text/plain": [
       "        HYPONYM\n",
       "0     ВСХОЖЕСТЬ\n",
       "1     ВУАЙЕРИЗМ\n",
       "2  ВУЛКАНИЗАЦИЯ\n",
       "3      ВЫБОРЩИК\n",
       "4       ВЫВОДОК"
      ]
     },
     "execution_count": 16,
     "metadata": {},
     "output_type": "execute_result"
    }
   ],
   "source": [
    "homework_data = pd.read_excel('words.xlsx', sheet_name='Sheet1')\n",
    "\n",
    "homework_data.head()"
   ]
  },
  {
   "cell_type": "code",
   "execution_count": 17,
   "metadata": {},
   "outputs": [
    {
     "name": "stdout",
     "output_type": "stream",
     "text": [
      "Гиперонимы для слова:  ВСХОЖЕСТЬ\n",
      "\n",
      "\n",
      "Всхожесть семян — это количество появившихся всходов, выраженное в процентах к количеству высеянных семян.\n",
      "Различают два вида всхожести:\n",
      "Лабораторная всхожесть - определяется в лабораторных условиях и указывается в паспорте семян.\n",
      "Полевая всхожесть – определяется по количеству всходов непосредственно на поле, практически во всех случаях она бывает ниже лабораторнои.\n",
      "Именно отсутствие 100% всхожести ограничивает введение точного индивидуального высева для зерновых и создание подобнои сеялки. Если в лучшем случае 5-10% семян уже заблаговременно обречены и не взоидут, не имеет смысла раскладывать семена в индивидуальные, математически точно рассчитанные точки поля.\n",
      "Стандартами предъявляются следующие требования к нормам всхожести семян: \n",
      "\n",
      "семена первого класса основных зерновых культур должны иметь всхожесть не ниже 95%;\n",
      "семена твердои пшеницы должны иметь всхожесть не ниже 90%\n",
      "\n",
      "\n",
      "\n",
      "Гиперонимы для слова:  ВУАЙЕРИЗМ\n",
      "\n",
      "\n",
      "Вуаиеризм (фр. voyeurisme от voir «видеть») или визионизм (лат. viso «глядеть, смотреть») — сексуальная девиация, характеризуемая побуждением подглядывать за людьми, занимающимися сексом или «интимными» процессами: раздевание, принятие ванны или душа, мочеиспускание. Вуаиеризм в большинстве случаев связан с таиным наблюдением за другим человеком.\n",
      "Вуаиер, вуаиерист — человек, которыи этим занимается.\n",
      "В случае, если вуаиеризм вызывается не естественным стремлением к новым впечатлениям, а является навязчивым состоянием, вытесняет другие формы половои жизни, он признается заболеванием, относящимся к категории расстроиств сексуального предпочтения.\n",
      "\n",
      "\n",
      "\n",
      "\n",
      "\n",
      "Гиперонимы для слова:  ВУЛКАНИЗАЦИЯ\n",
      "\n",
      "\n",
      "Вулканизация — технологическии процесс взаимодеиствия каучуков с вулканизирующим реагентом, при котором происходит сшивание молекул каучука в единую пространственную сетку. При этом повышаются прочностные характеристики каучука, его твердость и эластичность, снижаются пластические своиства, степень набухания и растворимость в органических растворителях. Вулканизующими реагентами могут являться: сера, пероксиды, оксиды металлов, соединения аминного типа и др. Для повышения скорости вулканизации используют различные катализаторы-ускорители.\n",
      "Открыл процесс вулканизации Чарльз Гудьир, запатентовавшии его в 1844 году. Процесс назван в честь Вулкана, древнеримского бога огня.\n",
      "В процессе вулканизации каучук становится резинои.\n",
      "Вулканизации подвергается обычно смесь каучука с различными компонентами, обеспечивающими необходимые эксплуатационные своиства резин: наполнителями (техническии углерод, мел, каолин, полидисперсная кремнекислота и т. д.), пластификаторами (нефтяные и талловые масла, фактис, дибутилфталат и т. д.), противостарителями (бисфенолы, диамины и т. д.), ускорителями вулканизации (ксантогенатами, тиазолами, сульфенамидами и т. д.), активаторами вулканизации (оксидом цинка, оксидом магния и т. д.), замедлителями подвулканизации (фталевыи ангидрид, N-нитрозодифениламин и т. д.).\n",
      "['вулканизация', '—', 'технологическии', 'процесс', 'взаимодеиствия', 'каучуков', 'с']\n",
      "\n",
      "\n",
      "\n",
      "Гиперонимы для слова:  ВЫБОРЩИК\n",
      "\n",
      "\n",
      "Коллегия выборщиков — система непрямых выборов, при которои делегируемые по должности или специально избираемые выборщики образуют не имеющую иных обязанностеи коллегию, избирающую высших должностных лиц. Кроме этого, в ряде стран по разным причинам традиционно практикуется институт непропорционального распределения голосов избирателеи между регионами для повышения представительства в избранных органах власти небольших сельских округов, национальных, религиозных и прочих меньшинств. Данныи феномен поощряет кандидатов на выборах вести активную политическую кампанию даже в самых отдаленных уголках страны, а не сосредотачиваться только на крупнеиших городских агломерациях.\n",
      "\n",
      "\n",
      "\n",
      "Гиперонимы для слова:  ВЫВОДОК\n",
      "\n",
      "\n",
      "«Выводок» (англ. The Brood) или «Отродье» или «Выродки» — художественныи фильм 1979 года производства Канады, фантастическии фильм ужасов режиссера Дэвида Кроненберга. Главные роли в этом фильме исполнили Оливер Рид, Саманта Эггар и Арт Хиндл.\n",
      "Лента «Выводок» является экспериментальным фильмом, снятым в жанре «биологического хоррора». В этом фильме Кроненберг рассматривает биологическую мутацию как проявление состояния ярости людеи.\n",
      "Съемки фильма проходили в Канаде — в Торонто и в Миссиссоге (Онтарио). Премьера фильма состоялась 25 мая 1979 года в США. В 1981 году фильм получил приз жюри мировых кинокритиков на кинофестивале Ситджес (исп. Festival de Cine de Sitges), проходящем в Каталонии.\n",
      "Режиссер и сценарист фильма Дэвид Кроненберг придумал сюжет после его громкого развода с первои женои Маргарет Хиндсон (поскольку они никак не могли поделить опеку над их общеи дочерью Кассандрои) — он признался, что очень многие черты героини Саманты Эггар были взяты именно от Хиндсон.\n",
      "\n",
      "\n",
      "\n",
      "Гиперонимы для слова:  ВЫПРЯМИТЕЛЬ\n",
      "\n",
      "\n",
      "Выпрямитель (электрического тока) — преобразователь электрическои энергии; механическое, электровакуумное, полупроводниковое или другое устроиство, предназначенное для преобразования входного электрического тока переменного направления в ток постоянного направления (то есть однонаправленныи ток), в частном случае — в постоянныи выходнои электрическии ток.\n",
      "Большинство выпрямителеи создает не постоянныи, а пульсирующии ток, для сглаживания пульсации применяют фильтры.\n",
      "Устроиство, выполняющее обратную функцию — преобразование постоянного тока в переменныи ток называется инвертором.\n",
      "Из-за принципа обратимости электрических машин выпрямитель и инвертор являются двумя разновидностями однои и тои же электрическои машины (справедливо только для инвертора на базе электрическои машины).\n",
      "['выпрямитель', '—', 'преобразователь', 'электрическои', 'энергии']\n",
      "\n",
      "\n",
      "\n",
      "Гиперонимы для слова:  ВЫСИЖИВАНИЕ\n",
      "\n",
      "\n",
      "Выживание — комплекс деиствии, которые человек может использовать в опаснои ситуации, такои как, например, стихииные бедствия, чтобы спасти себя и других. Методы этих деиствии призваны обеспечить основные потребности для жизни человека: воду, еду, укрытие, чтобы избежать возможных фатальных взаимодеиствии с животными и растениями и для лечения любых полученных травм или заболевании, преодоления опасных состоянии. Также под выживанием следует понимать результат процесса применения этих методик — сохранение жизни человека, использовавшего навыки выживания.\n",
      "\n",
      "\n",
      "\n",
      "Гиперонимы для слова:  ВЫХУХОЛЬ\n",
      "\n",
      "\n",
      "Выхухоль, или русская выхухоль, или хохуля (лат. Desmana moschata) — млекопитающее семеиства кротовых (отряд насекомоядные). Один из двух видов подсемеиства Desmaninae, иногда выделяемого как семеиство; вторым видом является пиренеиская выхухоль (Galemys pyrenaicus).\n",
      "\n",
      "\n",
      "\n",
      "Гиперонимы для слова:  ВЫШИВАНКА\n",
      "\n",
      "\n",
      "Вышиванка (укр. вишиванка, белор. вышыванка) — современное разговорное название восточнославянскои традиционнои вышитои рубахи.\n",
      "Обычно вышиванку изготовляли из самодельного полотна, которое ткали на станке. В орнаменте рубашки находили отображение местные особенности.\n",
      "На протяжении исторического и культурного развития сложились наиболее уместные, с точки зрения практических и эстетических требовании формы одежды, ее крои, разнообразные методы и способы декоративного оформления. Среди них ведущее место занимает вышиванка. Она широко использовалась в народном костюме и в быту. Вышивка славянского костюма богата и разнообразна. Ею украшали женские и мужские рубахи, верхнюю одежду, головные уборы. Мотивы орнаментов, композиции, цвета передавались из поколения в поколение, становясь традиционными.\n",
      "В современнои украинскои терминологии вышиванками принято называть не только рубахи с традиционными народными вышивками, но и другие фасоны украинскои народнои одежды. К числу таковых относятся блузы с вышивкои, платья-вышиванки, пояса-вышиванки и т. д. Именно в украинскои моде данныи наряд получил наибольшее распространение и популярность как современныи вариант одеяния.\n",
      "['вышиванка', '—', 'современное', 'разговорное', 'название']\n",
      "\n",
      "\n",
      "\n",
      "Гиперонимы для слова:  ВЬЮНОК\n",
      "\n",
      "\n",
      "Вьюнок (лат. Convolvulus) — род трав и кустарников семеиства Вьюнковые (Convolvulaceae).\n",
      "Научное название рода происходит от лат. convolvere — «свертываться», так как стебли многих видов рода завиваются вокруг других растении.\n",
      "Украинское название растения укр. Берізка.\n",
      "Вьюнками неправильно называют также виды рода Повои (Calystegia R.Br.) с вьющимися стеблями и Горец вьюнковыи (Polygonum convolvulus L.)basionym, или Fallopia convolvulus (L.) A.Love — сорное растение семеиства Гречишные (Polygonaceae).\n",
      "Вероятно, самыи распространенныи вид — Вьюнок полевои, или «березка» (Convolvulus arvensis L.) — злостныи сорняк посевов.\n",
      "['вьюнок', '—', 'род', 'трав', 'и', 'кустарников', 'семеиства']\n",
      "\n",
      "\n",
      "\n",
      "Гиперонимы для слова:  ВЬЮРОК\n",
      "\n",
      "\n"
     ]
    },
    {
     "name": "stdout",
     "output_type": "stream",
     "text": [
      "Вьюрок, или юрок (лат. Fringilla montifringilla) — вид певчих птиц из семеиства вьюрковых.\n",
      "Из всех вьюрковых у него наблюдается наиболее выраженное перелетное поведение.\n",
      "Величина вьюрка соответствует величине воробья. В зимнее время у вьюрка-самца голова, шея и передняя часть спины окрашены в коричнево-серыи цвет. Летом они становятся черными. Грудь круглыи год оранжевого цвета. На кончике хвоста у вьюрка белое оперение. У самок намного более скромная расцветка. У них коричневатая голова с темными полосками на верхнеи части. Коричневои является и спина, а грудь менее яркого оранжевого цвета, чем у самца.\n",
      "Песня — негромкое скрипучее щебетание, заканчивающееся резким «чжжж», крик — протяжное «кевк», в полете — резкое «чи-чи» или «вжяя».\n",
      "Гнездится в странах Скандинавии и в России от Кольского полуострова на западе до Охотского моря на востоке, в южнои лесотундре и леснои зоне, предпочитает смешанные леса. Зимует на юге Западнои Европы, в Турции, Иране, Туркмении, на востоке Китая, в Корее, Японии.\n",
      "В своем ареале он наиболее часто гнездится после пеночки-веснички, однако во время перелетов он полностью покидает места гнездования.\n",
      "Еще в XIX веке в Западнои Европе вьюрков иногда ловили ради «вкусного, несколько горьковатого» мяса.\n",
      "\n",
      "\n",
      "\n",
      "Гиперонимы для слова:  ГАГАРА\n",
      "\n",
      "\n",
      "Гагары (лат. Gavia) — род водоплавающих птиц, относящихся к монотипичному в настоящее время отряду гагарообразных (Gaviiformes) и обитающих на севере Европы, Азии и Америки. Представляют собои компактную группу близкородственных видов, заметно выделяющуюся среди остальных птиц. В мировои фауне сеичас насчитывается всего пять видов гагар, наиболее распространенныи вид — чернозобая гагара.\n",
      "Не следует путать гагару с гагаркои или гагои: несмотря на созвучность названии, это птицы из разных отрядов. Гаги известны благодаря своему пуху, а гагар раньше добывали на шкурки — «птичии мех» или ради «гагарьих шеек» для дамских шапочек.\n",
      "\n",
      "\n",
      "\n",
      "Гиперонимы для слова:  ГАЛАНТЕРЕЯ\n",
      "\n",
      "\n",
      "Галантерея (также галантереиные товары) — торговыи термин, обозначающии группу товаров, представляющих мелкие предметы туалета и личного обихода (галстуки, перчатки, шарфы, сумки и др.).\n",
      "['галантерея', '—', 'торговыи', 'термин']\n",
      "\n",
      "\n",
      "\n",
      "Гиперонимы для слова:  ГАЛИФЕ\n",
      "\n",
      "\n",
      "Это статья о фасоне брюк. О генерале, придумавшем этот фасон, см. Галифе, Гастон\n",
      "Галифе (от фр. Galliffet) — брюки, облегающие голени и сильно расширяющиеся на бедрах. Русское название брюкам дано по имени французского генерала Гастона Галифе (1830—1909), которыи ввел их для кавалеристов. Позже галифе были заимствованы другими армиями. В 1880-х годах галифе вошли в женскую моду, а в 1900-х — в мужскую.\n",
      "На самом деле только в русском языке эти брюки называются по имени генерала Галифе. По-французски они называются просто culotte bouffante (брюки с напуском).\n",
      "\n",
      "\n",
      "['галифе', '—', 'брюки']\n",
      "\n",
      "\n",
      "\n",
      "Гиперонимы для слова:  ГАЛС\n",
      "\n",
      "\n",
      "Галс:\n",
      "\n",
      "Движение судна относительно ветра. Различают левыи (ветер дует в левыи борт; англ. portside) и правыи (ветер дует в правыи борт; англ. starboard) галсы. При расхождении парусных судов в ситуации пересечения курсов для избежания столкновения судно, идущее левым галсом, обязано уступить судну, идущему правым галсом.\n",
      "Отрезок пути, которыи проходит парусное судно от одного поворота до другого при лавировке.Если корабль идет под парусами и ветер дует ему в правыи борт, то говорят, что корабль идет правым галсом. Идти одним галсом или лежать на одном галсе — так говорят, когда несколько судов идут все или правым или левым галсом. Идти контр-галсами — говорится о судах, идущих навстречу друг другу разными галсами. Лечь на другои галс — значит повернуть судно так, чтобы ветер дувшии, например, в правыи борт, после поворота дул в левыи. Сделать галс — проити какое-нибудь расстояние одним галсом, то есть не поворачивая на другои галс.\n",
      "\n",
      "Веревка, удерживающая на должном месте нижнии наветренныи угол паруса\n",
      "['галс', '—', 'проити']\n",
      "\n",
      "\n",
      "\n",
      "Гиперонимы для слова:  ГАЛУН\n",
      "\n",
      "\n",
      "Гален (греч. Γαληνος; 129 или 131 год — около 200 или 217 года, возможно 215 год) — древнеримскии медик, хирург и философ греческого происхождения. Гален внес весомыи вклад в понимание многих научных дисциплин, включая анатомию, физиологию, патологию, фармакологию и неврологию, а также философию и логику.\n",
      "Распространенное написание имени как Клавдии Гален (лат. Claudius Galenus) появляется лишь в эпоху Возрождения и не зафиксировано в рукописях; считается, что это ошибочная расшифровка сокращения Cl. (Clarissimus).\n",
      "Сын богатого архитектора, Гален получил прекрасное образование, много путешествовал, собрав множество информации по медицине. Поселившись в Риме, врачевал римскую знать, став со временем личным врачом нескольких Римских императоров.\n",
      "Его теории доминировали в Европеискои медицине в течение 1300 лет. Его анатомиеи, основаннои на диссекции обезьян и свинеи, пользовались до появления в 1543 году труда «О строении человеческого тела» Андреаса Везалия, его теория кровообращения просуществовала до 1628 года, когда Уильям Гарвеи опубликовал свои труд «Анатомическое исследование о движении сердца и крови у животных», в котором дал описание роли сердца в кровообращении. Студенты-медики изучали Галена до XIX века включительно. Его теория о том, что мозг контролирует движения при помощи нервнои системы, актуальна и сегодня.\n",
      "Многое из его наследия сохранилось благодаря переводам на сириискии, арабскии, иврит, латынь и древнеармянскии.\n",
      "\n",
      "\n",
      "\n",
      "Гиперонимы для слова:  ГАНТЕЛЬ\n",
      "\n",
      "\n",
      "Гантели (нем. Hantel) — спортивные снаряды для выполнения физических упражнении с отягощениями, направленных на развитие мышц, укрепление суставов и общеи работоспособности организма.\n",
      "\n",
      "\n",
      "\n",
      "Гиперонимы для слова:  ГАРУС\n",
      "\n",
      "\n",
      "Гарус (польск. harus от нем. Haar «волос, шерсть») — род стариннои шерстянои или хлопчатобумажнои пряжи двух видов:\n",
      "\n",
      "Хлопчатобумажная набивная ткань из низкосортного хлопка с мелким печатным узором с обеих сторон, прочная, жесткая и грубая на ощупь.\n",
      "Шерстяная пряжа для вышивания, вязания и изготовления грубых тканеи.Из полотняного гаруса изготавливались домашние женские платья, из шерстяного — грубые ткани для верхнеи одежды.\n",
      "В таможенных книгах Тихвинского монастыря XVII века упоминается о «100 аршинах гарусу».\n",
      "Есть этимология от города Арраса во Фландрии, где первоначально вырабатывали такую пряжу и ткани.\n",
      "['гарус', '—', 'род', 'стариннои', 'шерстянои']\n",
      "\n",
      "\n",
      "\n",
      "Гиперонимы для слова:  ГАСТРОСКОП\n",
      "\n",
      "\n",
      "Гастроскопия (от др.-греч. γαστηρ — «желудок» и σκοπεω — «наблюдаю, смотрю»); более точное название эзофагогастродуоденоскопия (ЭГДС) — одна из разновидностеи эндоскопического обследования — визуальныи осмотр стенок пищевода, желудка и двенадцатиперстнои кишки при помощи специального инструмента — гастроскопа, вводимого в желудок через рот и пищевод.\n",
      "\n",
      "Гастроскоп представляет собои гибкую трубку, внутри которои находится волоконно-оптическая система.\n",
      "Правила проведения эндоскопических исследовании и оснащение кабинетов нормируются Приказом Министерства здравоохранения Россиискои Федерации от 6 декабря 2017 г. N 974н\n",
      "\n",
      "\n",
      "\n",
      "Гиперонимы для слова:  ГАСТРОСКОПИЯ\n",
      "\n",
      "\n",
      "Гастроскопия (от др.-греч. γαστηρ — «желудок» и σκοπεω — «наблюдаю, смотрю»); более точное название эзофагогастродуоденоскопия (ЭГДС) — одна из разновидностеи эндоскопического обследования — визуальныи осмотр стенок пищевода, желудка и двенадцатиперстнои кишки при помощи специального инструмента — гастроскопа, вводимого в желудок через рот и пищевод.\n",
      "\n",
      "Гастроскоп представляет собои гибкую трубку, внутри которои находится волоконно-оптическая система.\n",
      "Правила проведения эндоскопических исследовании и оснащение кабинетов нормируются Приказом Министерства здравоохранения Россиискои Федерации от 6 декабря 2017 г. N 974н\n",
      "\n",
      "\n",
      "\n",
      "Гиперонимы для слова:  ГАФНИЙ\n",
      "\n",
      "\n",
      "Гафнии — химическии элемент 4-и группы длиннопериоднои формы периодическои системы Д. И. Менделеева (по короткои форме периодическои системы — побочнои подгруппы IV группы), шестого периода, с атомным номером 72. Обозначается символом Hf (лат. Hafnium). Простое вещество — тяжелыи тугоплавкии серебристо-белыи металл.\n",
      "\n",
      "Гафнии имеет две модификации. При комнатнои температуре гафнии обладает гексагональнои плотноупакованнои кристаллическои решеткои. При температуре, равнои 2016 К, гафнии претерпевает аллотропическое превращение — гексагональная решетка переходит в объемноцентрированную кубическую решетку.\n",
      "['гафнии', '—', 'химическии', 'элемент']\n",
      "\n",
      "\n",
      "\n",
      "Гиперонимы для слова:  ГАШЕТКА\n",
      "\n",
      "\n"
     ]
    },
    {
     "name": "stdout",
     "output_type": "stream",
     "text": [
      "Газета — печатное периодическое издание, выходящее под постоянным названием и не реже одного раза в месяц. Прообразом газеты считают древние рукописные сводки новостеи. Еще Юлии Цезарь начал публиковать «Деяния сената», а затем «Ежедневные общественные деяния народа». Римские газеты представляли собои глиняные дощечки, на которых записывали хронику событии. Примерно с 911 года в Китае начал выходить «Цзинь бао» («Столичныи вестник»). Название «газета» произошло от наименования мелкои итальянскои монеты газетта (итал. gazzetta). В XVI веке за прочтение ежедневного публичного листка с информациеи (сообщениями о придворнои жизни, торговых новостях, сообщениями из других городов) платили одну газетту. Согласно советскому ГОСТу — «листовое издание в виде одного или нескольких листов печатного материала установленного формата, издательски приспособленное к специфике данного периодического издания».\n",
      "\n",
      "\n",
      "\n"
     ]
    }
   ],
   "source": [
    "for word in list(homework_data['HYPONYM']):\n",
    "    print('Гиперонимы для слова: ', word)\n",
    "    print('\\n')\n",
    "    get_hyperonyms(word)\n",
    "    print('\\n\\n')"
   ]
  },
  {
   "cell_type": "code",
   "execution_count": 18,
   "metadata": {},
   "outputs": [],
   "source": [
    "from gensim import utils"
   ]
  },
  {
   "cell_type": "code",
   "execution_count": 19,
   "metadata": {},
   "outputs": [],
   "source": [
    "def get_hyperonymss(main_word):\n",
    "    HYPONYM = eq(utils.deaccent(main_word.lower()))\n",
    "    RULE = or_(\n",
    "        rule(HYPONYM, ATAKJE, START, MID, END),\n",
    "        rule(HYPONYM, MID, END),\n",
    "        rule(HYPONYM, MID, MID, END),\n",
    "        rule(START_S, END, KAK, HYPONYM),\n",
    "        rule(END, INCLUDING, HYPONYM),\n",
    "        rule(HYPONYM, END)\n",
    "    )\n",
    "    parser = Parser(RULE) \n",
    "    text = utils.deaccent(wikipedia.summary(main_word))\n",
    "    # print(text)\n",
    "    text = re.sub(r'\\(.+?\\)', '', text)\n",
    "    text = text.lower().replace('* сергии радонежскии* ', '')\n",
    "    for idx, match in enumerate(parser.findall(text.lower())):\n",
    "        k = [_.value for _ in match.tokens]\n",
    "        print(k)"
   ]
  },
  {
   "cell_type": "code",
   "execution_count": 20,
   "metadata": {},
   "outputs": [
    {
     "name": "stdout",
     "output_type": "stream",
     "text": [
      "Гиперонимы для слова:  ВСХОЖЕСТЬ\n",
      "\n",
      "\n",
      "['всхожесть', 'семян']\n",
      "\n",
      "\n",
      "\n",
      "Гиперонимы для слова:  ВУАЙЕРИЗМ\n",
      "\n",
      "\n",
      "['вуаиеризм', 'в', 'большинстве', 'случаев']\n",
      "\n",
      "\n",
      "\n",
      "Гиперонимы для слова:  ВУЛКАНИЗАЦИЯ\n",
      "\n",
      "\n",
      "['вулканизация', '—', 'технологическии', 'процесс', 'взаимодеиствия', 'каучуков', 'с']\n",
      "\n",
      "\n",
      "\n",
      "Гиперонимы для слова:  ВЫБОРЩИК\n",
      "\n",
      "\n",
      "\n",
      "\n",
      "\n",
      "Гиперонимы для слова:  ВЫВОДОК\n",
      "\n",
      "\n",
      "\n",
      "\n",
      "\n",
      "Гиперонимы для слова:  ВЫПРЯМИТЕЛЬ\n",
      "\n",
      "\n",
      "['выпрямитель', '—', 'преобразователь', 'электрическои', 'энергии']\n",
      "['выпрямитель', 'и', 'инвертор']\n",
      "\n",
      "\n",
      "\n",
      "Гиперонимы для слова:  ВЫСИЖИВАНИЕ\n",
      "\n",
      "\n",
      "\n",
      "\n",
      "\n",
      "Гиперонимы для слова:  ВЫХУХОЛЬ\n",
      "\n",
      "\n",
      "\n",
      "\n",
      "\n",
      "Гиперонимы для слова:  ВЫШИВАНКА\n",
      "\n",
      "\n",
      "['вышиванка', '—', 'современное', 'разговорное', 'название']\n",
      "\n",
      "\n",
      "\n",
      "Гиперонимы для слова:  ВЬЮНОК\n",
      "\n",
      "\n",
      "['вьюнок', '—', 'род', 'трав', 'и', 'кустарников', 'семеиства']\n",
      "['вьюнок', 'полевои']\n",
      "\n",
      "\n",
      "\n",
      "Гиперонимы для слова:  ВЬЮРОК\n",
      "\n",
      "\n",
      "\n",
      "\n",
      "\n",
      "Гиперонимы для слова:  ГАГАРА\n",
      "\n",
      "\n",
      "\n",
      "\n",
      "\n",
      "Гиперонимы для слова:  ГАЛАНТЕРЕЯ\n",
      "\n",
      "\n",
      "['галантерея', '—', 'торговыи', 'термин']\n",
      "\n",
      "\n",
      "\n",
      "Гиперонимы для слова:  ГАЛИФЕ\n",
      "\n",
      "\n",
      "['галифе', '—', 'брюки']\n",
      "['галифе', 'были']\n",
      "\n",
      "\n",
      "\n",
      "Гиперонимы для слова:  ГАЛС\n",
      "\n",
      "\n",
      "['галс', '—', 'проити']\n",
      "\n",
      "\n",
      "\n",
      "Гиперонимы для слова:  ГАЛУН\n",
      "\n",
      "\n",
      "\n",
      "\n",
      "\n",
      "Гиперонимы для слова:  ГАНТЕЛЬ\n",
      "\n",
      "\n",
      "\n",
      "\n",
      "\n",
      "Гиперонимы для слова:  ГАРУС\n",
      "\n",
      "\n",
      "['гарус', '—', 'род', 'стариннои', 'шерстянои']\n",
      "\n",
      "\n",
      "\n",
      "Гиперонимы для слова:  ГАСТРОСКОП\n",
      "\n",
      "\n",
      "\n",
      "\n",
      "\n",
      "Гиперонимы для слова:  ГАСТРОСКОПИЯ\n",
      "\n",
      "\n",
      "\n",
      "\n",
      "\n",
      "Гиперонимы для слова:  ГАФНИЙ\n",
      "\n",
      "\n",
      "['гафнии', '—', 'химическии', 'элемент']\n",
      "\n",
      "\n",
      "\n",
      "Гиперонимы для слова:  ГАШЕТКА\n",
      "\n",
      "\n",
      "\n",
      "\n",
      "\n"
     ]
    }
   ],
   "source": [
    "for word in list(homework_data['HYPONYM']):\n",
    "    print('Гиперонимы для слова: ', word)\n",
    "    print('\\n')\n",
    "    get_hyperonymss(word)\n",
    "    print('\\n\\n')"
   ]
  },
  {
   "cell_type": "code",
   "execution_count": null,
   "metadata": {},
   "outputs": [],
   "source": []
  }
 ],
 "metadata": {
  "kernelspec": {
   "display_name": "Python 3",
   "language": "python",
   "name": "python3"
  },
  "language_info": {
   "codemirror_mode": {
    "name": "ipython",
    "version": 3
   },
   "file_extension": ".py",
   "mimetype": "text/x-python",
   "name": "python",
   "nbconvert_exporter": "python",
   "pygments_lexer": "ipython3",
   "version": "3.7.3"
  }
 },
 "nbformat": 4,
 "nbformat_minor": 2
}
