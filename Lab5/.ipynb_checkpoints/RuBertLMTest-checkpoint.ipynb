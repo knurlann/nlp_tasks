{
 "cells": [
  {
   "cell_type": "code",
   "execution_count": 1,
   "metadata": {},
   "outputs": [],
   "source": [
    "import torch\n",
    "import numpy as np\n",
    "import pandas as pd\n",
    "import torch\n",
    "from transformers import BertTokenizer, BertModel, BertConfig, BertPreTrainedModel, BertForPreTraining, BertForMaskedLM\n",
    "import torch.nn as nn\n",
    "from tqdm import tqdm, tqdm_notebook\n",
    "import os\n",
    "import random\n",
    "\n",
    "SEED = 1234\n",
    "\n",
    "random.seed(SEED)\n",
    "np.random.seed(SEED)\n",
    "torch.manual_seed(SEED)\n",
    "torch.backends.cudnn.deterministic = True\n",
    "\n",
    "RUBERT_PATH = '../../ml_models/ru_conversational_cased_L-12_H-768_A-12_pt'\n",
    "modelpath = os.path.join(RUBERT_PATH,'pytorch_model.bin')"
   ]
  },
  {
   "cell_type": "code",
   "execution_count": 2,
   "metadata": {},
   "outputs": [],
   "source": [
    "#!pip install transformers #huggingface"
   ]
  },
  {
   "cell_type": "code",
   "execution_count": 3,
   "metadata": {},
   "outputs": [
    {
     "data": {
      "text/plain": [
       "True"
      ]
     },
     "execution_count": 3,
     "metadata": {},
     "output_type": "execute_result"
    }
   ],
   "source": [
    "os.path.isfile(os.path.join(RUBERT_PATH,'pytorch_model.bin'))"
   ]
  },
  {
   "cell_type": "code",
   "execution_count": 4,
   "metadata": {},
   "outputs": [
    {
     "data": {
      "text/plain": [
       "100792"
      ]
     },
     "execution_count": 4,
     "metadata": {},
     "output_type": "execute_result"
    }
   ],
   "source": [
    "# tokenizer = BertTokenizer.from_pretrained(os.path.join(RUBERT_PATH,'vocab.txt'))\n",
    "tokenizer = BertTokenizer.from_pretrained(RUBERT_PATH, do_lower_case=False)\n",
    "config = BertConfig.from_json_file(os.path.join(RUBERT_PATH,'bert_config.json'))\n",
    "bert = BertForPreTraining.from_pretrained(modelpath, config=config)\n",
    "# model.eval()\n",
    "\n",
    "len(tokenizer.vocab)"
   ]
  },
  {
   "cell_type": "code",
   "execution_count": 5,
   "metadata": {},
   "outputs": [],
   "source": [
    "max_input_length = tokenizer.max_model_input_sizes['bert-base-uncased']\n",
    "\n",
    "def get_means(sentence):\n",
    "    tokenized_text = tokenizer.tokenize(sentence)\n",
    "    tokenized_text = tokenized_text[:max_input_length-2]\n",
    "    indexed_tokens = tokenizer.convert_tokens_to_ids(tokenized_text)\n",
    "    \n",
    "    segments_ids = [1] * len(tokenized_text)    \n",
    "    tokens_tensor = torch.tensor([indexed_tokens])\n",
    "    segments_tensors = torch.tensor([segments_ids])\n",
    "    predictions = bert(tokens_tensor, token_type_ids=segments_tensors)\n",
    "    _, secondDims, thirdDims = predictions[0].shape\n",
    "    \n",
    "    finalVector = []\n",
    "    \n",
    "    for i in range(secondDims):\n",
    "        currentArr = predictions[0][0][i].detach().numpy()\n",
    "        if len(finalVector) == 0:\n",
    "            finalVector = currentArr\n",
    "        else:\n",
    "            finalVector = np.add(finalVector, currentArr)\n",
    "    return np.mean(finalVector)\n"
   ]
  },
  {
   "cell_type": "code",
   "execution_count": 6,
   "metadata": {
    "scrolled": false
   },
   "outputs": [
    {
     "data": {
      "text/html": [
       "<div>\n",
       "<style scoped>\n",
       "    .dataframe tbody tr th:only-of-type {\n",
       "        vertical-align: middle;\n",
       "    }\n",
       "\n",
       "    .dataframe tbody tr th {\n",
       "        vertical-align: top;\n",
       "    }\n",
       "\n",
       "    .dataframe thead th {\n",
       "        text-align: right;\n",
       "    }\n",
       "</style>\n",
       "<table border=\"1\" class=\"dataframe\">\n",
       "  <thead>\n",
       "    <tr style=\"text-align: right;\">\n",
       "      <th></th>\n",
       "      <th>text</th>\n",
       "    </tr>\n",
       "  </thead>\n",
       "  <tbody>\n",
       "    <tr>\n",
       "      <th>0</th>\n",
       "      <td>Сериал очень люблю, но Академия и Земля вызыва...</td>\n",
       "    </tr>\n",
       "    <tr>\n",
       "      <th>1</th>\n",
       "      <td>думал, что будет лучше идея очень интересна - ...</td>\n",
       "    </tr>\n",
       "    <tr>\n",
       "      <th>2</th>\n",
       "      <td>с творчеством Головачева я познакомился посред...</td>\n",
       "    </tr>\n",
       "    <tr>\n",
       "      <th>3</th>\n",
       "      <td>то-то я и в большое неудовольствие прочитал \"А...</td>\n",
       "    </tr>\n",
       "    <tr>\n",
       "      <th>4</th>\n",
       "      <td>как мне показалось местами сильно смахивает на...</td>\n",
       "    </tr>\n",
       "  </tbody>\n",
       "</table>\n",
       "</div>"
      ],
      "text/plain": [
       "                                                text\n",
       "0  Сериал очень люблю, но Академия и Земля вызыва...\n",
       "1  думал, что будет лучше идея очень интересна - ...\n",
       "2  с творчеством Головачева я познакомился посред...\n",
       "3  то-то я и в большое неудовольствие прочитал \"А...\n",
       "4  как мне показалось местами сильно смахивает на..."
      ]
     },
     "execution_count": 6,
     "metadata": {},
     "output_type": "execute_result"
    }
   ],
   "source": [
    "#texts data\n",
    "texts_df = pd.read_csv('texts_train.txt', sep=\"\\t\", header=None)\n",
    "texts_df.columns = [\"text\"]\n",
    "texts_df.head()"
   ]
  },
  {
   "cell_type": "code",
   "execution_count": 7,
   "metadata": {
    "scrolled": true
   },
   "outputs": [
    {
     "data": {
      "text/plain": [
       "-290.20074"
      ]
     },
     "execution_count": 7,
     "metadata": {},
     "output_type": "execute_result"
    }
   ],
   "source": [
    "get_means(texts_df['text'][0])"
   ]
  },
  {
   "cell_type": "code",
   "execution_count": 8,
   "metadata": {
    "scrolled": true
   },
   "outputs": [
    {
     "data": {
      "text/html": [
       "<div>\n",
       "<style scoped>\n",
       "    .dataframe tbody tr th:only-of-type {\n",
       "        vertical-align: middle;\n",
       "    }\n",
       "\n",
       "    .dataframe tbody tr th {\n",
       "        vertical-align: top;\n",
       "    }\n",
       "\n",
       "    .dataframe thead th {\n",
       "        text-align: right;\n",
       "    }\n",
       "</style>\n",
       "<table border=\"1\" class=\"dataframe\">\n",
       "  <thead>\n",
       "    <tr style=\"text-align: right;\">\n",
       "      <th></th>\n",
       "      <th>tonality</th>\n",
       "      <th>vector_means</th>\n",
       "    </tr>\n",
       "  </thead>\n",
       "  <tbody>\n",
       "    <tr>\n",
       "      <th>0</th>\n",
       "      <td>6.0</td>\n",
       "      <td>-290.200745</td>\n",
       "    </tr>\n",
       "    <tr>\n",
       "      <th>1</th>\n",
       "      <td>7.0</td>\n",
       "      <td>-183.830475</td>\n",
       "    </tr>\n",
       "    <tr>\n",
       "      <th>2</th>\n",
       "      <td>10.0</td>\n",
       "      <td>-440.676788</td>\n",
       "    </tr>\n",
       "    <tr>\n",
       "      <th>3</th>\n",
       "      <td>5.0</td>\n",
       "      <td>-231.999832</td>\n",
       "    </tr>\n",
       "    <tr>\n",
       "      <th>4</th>\n",
       "      <td>6.0</td>\n",
       "      <td>-362.513824</td>\n",
       "    </tr>\n",
       "  </tbody>\n",
       "</table>\n",
       "</div>"
      ],
      "text/plain": [
       "   tonality  vector_means\n",
       "0       6.0   -290.200745\n",
       "1       7.0   -183.830475\n",
       "2      10.0   -440.676788\n",
       "3       5.0   -231.999832\n",
       "4       6.0   -362.513824"
      ]
     },
     "execution_count": 8,
     "metadata": {},
     "output_type": "execute_result"
    }
   ],
   "source": [
    "#scores data\n",
    "if (os.path.isfile('collected_data.csv')):\n",
    "    scores_df = pd.read_csv('collected_data.csv', dtype='float64')\n",
    "else:\n",
    "    scores_df = pd.read_csv('scores_train.txt', sep=\"\\t\", header=None, dtype='float64')\n",
    "    scores_df.columns = [\"tonality\"]\n",
    "    vector_means = [get_means(sentence) for sentence in texts_df[\"text\"].tolist()]\n",
    "    scores_df['vector_means'] = vector_means\n",
    "\n",
    "scores_df.head()"
   ]
  },
  {
   "cell_type": "code",
   "execution_count": 9,
   "metadata": {},
   "outputs": [],
   "source": [
    "scores_df.to_csv('collected_data.csv', index = False, header=True)"
   ]
  },
  {
   "cell_type": "code",
   "execution_count": 10,
   "metadata": {},
   "outputs": [],
   "source": [
    "tone_levels = np.array(scores_df['tonality'])\n",
    "features = np.array(scores_df['vector_means']).reshape(-1, 1)"
   ]
  },
  {
   "cell_type": "code",
   "execution_count": 11,
   "metadata": {},
   "outputs": [
    {
     "name": "stdout",
     "output_type": "stream",
     "text": [
      "Training Features Shape: (16000, 1)\n",
      "Training Labels Shape: (16000,)\n",
      "Testing Features Shape: (4000, 1)\n",
      "Testing Labels Shape: (4000,)\n"
     ]
    }
   ],
   "source": [
    "# Using Skicit-learn to split data into training and testing sets\n",
    "from sklearn.model_selection import train_test_split\n",
    "# Split the data into training and testing sets\n",
    "X_train, X_test, y_train, y_test  = train_test_split(features, tone_levels, test_size = 0.2, random_state = random.seed(SEED))\n",
    "\n",
    "print('Training Features Shape:', X_train.shape)\n",
    "print('Training Labels Shape:', y_train.shape)\n",
    "print('Testing Features Shape:', X_test.shape)\n",
    "print('Testing Labels Shape:', y_test .shape)"
   ]
  },
  {
   "cell_type": "code",
   "execution_count": 118,
   "metadata": {
    "scrolled": true
   },
   "outputs": [],
   "source": [
    "from sklearn.ensemble import GradientBoostingRegressor\n",
    "\n",
    "model = GradientBoostingRegressor(n_estimators=100,\n",
    "                                  learning_rate=0.1,\n",
    "                                  random_state=random.seed(SEED),\n",
    "                                  loss='ls',\n",
    "                                  max_depth=1)\n",
    "model.fit(X_train, y_train)\n",
    "y_pred = model.predict(X_test)"
   ]
  },
  {
   "cell_type": "code",
   "execution_count": 123,
   "metadata": {},
   "outputs": [],
   "source": [
    "def get_mae(pred, test):\n",
    "    # Calculate the absolute errors\n",
    "    errors = abs(pred - test)\n",
    "    # Print out the mean absolute error (mae)\n",
    "    print('Mean Absolute Error:', round(np.mean(errors), 2), 'degrees.')\n",
    "    return errors"
   ]
  },
  {
   "cell_type": "code",
   "execution_count": 124,
   "metadata": {},
   "outputs": [
    {
     "name": "stdout",
     "output_type": "stream",
     "text": [
      "Mean Absolute Error: 1.74 degrees.\n"
     ]
    }
   ],
   "source": [
    "errors = get_mae(y_pred, y_test)"
   ]
  },
  {
   "cell_type": "code",
   "execution_count": 125,
   "metadata": {
    "scrolled": true
   },
   "outputs": [],
   "source": [
    "def get_accuracy(errs, test_data):\n",
    "    # Calculate mean absolute percentage error (MAPE)\n",
    "    mape = 100 * (errs / test_data)\n",
    "    # Calculate and display accuracy\n",
    "    accuracy = 100 - np.mean(mape)\n",
    "    print('Accuracy:', round(accuracy, 2), '%.')\n",
    "    return accuracy"
   ]
  },
  {
   "cell_type": "code",
   "execution_count": 126,
   "metadata": {},
   "outputs": [
    {
     "name": "stdout",
     "output_type": "stream",
     "text": [
      "Accuracy: 58.37 %.\n"
     ]
    },
    {
     "data": {
      "text/plain": [
       "58.36569578338658"
      ]
     },
     "execution_count": 126,
     "metadata": {},
     "output_type": "execute_result"
    }
   ],
   "source": [
    "get_accuracy(errors, y_test)"
   ]
  },
  {
   "cell_type": "code",
   "execution_count": 127,
   "metadata": {},
   "outputs": [
    {
     "name": "stderr",
     "output_type": "stream",
     "text": [
      "C:\\Users\\builder\\Anaconda\\lib\\site-packages\\sklearn\\metrics\\classification.py:1437: UndefinedMetricWarning: Precision and F-score are ill-defined and being set to 0.0 in labels with no predicted samples.\n",
      "  'precision', 'predicted', average, warn_for)\n"
     ]
    },
    {
     "name": "stdout",
     "output_type": "stream",
     "text": [
      "              precision    recall  f1-score   support\n",
      "\n",
      "           1       0.00      0.00      0.00        74\n",
      "           2       0.00      0.00      0.00        74\n",
      "           3       0.00      0.00      0.00       107\n",
      "           4       0.00      0.00      0.00       169\n",
      "           5       0.00      0.00      0.00       257\n",
      "           6       0.14      0.16      0.15       203\n",
      "           7       0.10      0.52      0.16       353\n",
      "           8       0.17      0.47      0.25       692\n",
      "           9       0.00      0.00      0.00       972\n",
      "          10       0.00      0.00      0.00      1099\n",
      "\n",
      "    accuracy                           0.14      4000\n",
      "   macro avg       0.04      0.12      0.06      4000\n",
      "weighted avg       0.05      0.14      0.07      4000\n",
      "\n"
     ]
    }
   ],
   "source": [
    "from sklearn import metrics\n",
    "y_pred = [int(item) for item in y_pred]\n",
    "print(metrics.classification_report(y_test, y_pred))"
   ]
  },
  {
   "cell_type": "code",
   "execution_count": 133,
   "metadata": {},
   "outputs": [],
   "source": [
    "from sklearn.svm import SVC\n",
    "\n",
    "clf = SVC(gamma='auto')\n",
    "clf.fit(X_train, y_train)\n",
    "clf_y_pred = clf.predict(X_test)"
   ]
  },
  {
   "cell_type": "code",
   "execution_count": 134,
   "metadata": {},
   "outputs": [
    {
     "name": "stdout",
     "output_type": "stream",
     "text": [
      "Mean Absolute Error: 1.92 degrees.\n"
     ]
    }
   ],
   "source": [
    "clf_errors = get_mae(clf_y_pred, y_test)"
   ]
  },
  {
   "cell_type": "code",
   "execution_count": 135,
   "metadata": {},
   "outputs": [
    {
     "name": "stdout",
     "output_type": "stream",
     "text": [
      "Accuracy: 48.33 %.\n"
     ]
    },
    {
     "data": {
      "text/plain": [
       "48.32517857142857"
      ]
     },
     "execution_count": 135,
     "metadata": {},
     "output_type": "execute_result"
    }
   ],
   "source": [
    "get_accuracy(clf_errors, y_test)"
   ]
  },
  {
   "cell_type": "code",
   "execution_count": 136,
   "metadata": {},
   "outputs": [
    {
     "name": "stderr",
     "output_type": "stream",
     "text": [
      "C:\\Users\\builder\\Anaconda\\lib\\site-packages\\sklearn\\metrics\\classification.py:1437: UndefinedMetricWarning: Precision and F-score are ill-defined and being set to 0.0 in labels with no predicted samples.\n",
      "  'precision', 'predicted', average, warn_for)\n"
     ]
    },
    {
     "name": "stdout",
     "output_type": "stream",
     "text": [
      "              precision    recall  f1-score   support\n",
      "\n",
      "           1       0.00      0.00      0.00        74\n",
      "           2       0.00      0.00      0.00        74\n",
      "           3       0.00      0.00      0.00       107\n",
      "           4       0.00      0.00      0.00       169\n",
      "           5       0.04      0.00      0.01       257\n",
      "           6       0.03      0.00      0.01       203\n",
      "           7       0.08      0.01      0.02       353\n",
      "           8       0.17      0.09      0.11       692\n",
      "           9       0.27      0.35      0.31       972\n",
      "          10       0.29      0.60      0.39      1099\n",
      "\n",
      "    accuracy                           0.27      4000\n",
      "   macro avg       0.09      0.11      0.08      4000\n",
      "weighted avg       0.19      0.27      0.20      4000\n",
      "\n"
     ]
    }
   ],
   "source": [
    "clf_y_pred = [int(item) for item in clf_y_pred]\n",
    "print(metrics.classification_report(y_test, clf_y_pred))"
   ]
  },
  {
   "cell_type": "code",
   "execution_count": 150,
   "metadata": {},
   "outputs": [],
   "source": [
    "from sklearn.neighbors import KNeighborsClassifier\n",
    "\n",
    "knn = KNeighborsClassifier(n_neighbors=10)\n",
    "knn.fit(X_train, y_train)\n",
    "knn_y_pred = knn.predict(X_test)"
   ]
  },
  {
   "cell_type": "code",
   "execution_count": 151,
   "metadata": {},
   "outputs": [
    {
     "name": "stdout",
     "output_type": "stream",
     "text": [
      "Mean Absolute Error: 1.98 degrees.\n"
     ]
    }
   ],
   "source": [
    "knn_errors = get_mae(knn_y_pred, y_test)"
   ]
  },
  {
   "cell_type": "code",
   "execution_count": 152,
   "metadata": {},
   "outputs": [
    {
     "name": "stdout",
     "output_type": "stream",
     "text": [
      "Accuracy: 51.32 %.\n"
     ]
    },
    {
     "data": {
      "text/plain": [
       "51.32059523809524"
      ]
     },
     "execution_count": 152,
     "metadata": {},
     "output_type": "execute_result"
    }
   ],
   "source": [
    "get_accuracy(knn_errors, y_test)"
   ]
  },
  {
   "cell_type": "code",
   "execution_count": 153,
   "metadata": {},
   "outputs": [
    {
     "name": "stderr",
     "output_type": "stream",
     "text": [
      "C:\\Users\\builder\\Anaconda\\lib\\site-packages\\sklearn\\metrics\\classification.py:1437: UndefinedMetricWarning: Precision and F-score are ill-defined and being set to 0.0 in labels with no predicted samples.\n",
      "  'precision', 'predicted', average, warn_for)\n"
     ]
    },
    {
     "name": "stdout",
     "output_type": "stream",
     "text": [
      "              precision    recall  f1-score   support\n",
      "\n",
      "           1       0.00      0.00      0.00        74\n",
      "           2       0.00      0.00      0.00        74\n",
      "           3       0.00      0.00      0.00       107\n",
      "           4       0.00      0.00      0.00       169\n",
      "           5       0.04      0.00      0.01       257\n",
      "           6       0.03      0.00      0.01       203\n",
      "           7       0.08      0.01      0.02       353\n",
      "           8       0.17      0.09      0.11       692\n",
      "           9       0.27      0.35      0.31       972\n",
      "          10       0.29      0.60      0.39      1099\n",
      "\n",
      "    accuracy                           0.27      4000\n",
      "   macro avg       0.09      0.11      0.08      4000\n",
      "weighted avg       0.19      0.27      0.20      4000\n",
      "\n"
     ]
    }
   ],
   "source": [
    "knn_y_pred = [int(item) for item in knn_y_pred]\n",
    "print(metrics.classification_report(y_test, clf_y_pred))"
   ]
  },
  {
   "cell_type": "code",
   "execution_count": null,
   "metadata": {},
   "outputs": [],
   "source": []
  }
 ],
 "metadata": {
  "kernelspec": {
   "display_name": "Python 3",
   "language": "python",
   "name": "python3"
  },
  "language_info": {
   "codemirror_mode": {
    "name": "ipython",
    "version": 3
   },
   "file_extension": ".py",
   "mimetype": "text/x-python",
   "name": "python",
   "nbconvert_exporter": "python",
   "pygments_lexer": "ipython3",
   "version": "3.7.3"
  }
 },
 "nbformat": 4,
 "nbformat_minor": 2
}
