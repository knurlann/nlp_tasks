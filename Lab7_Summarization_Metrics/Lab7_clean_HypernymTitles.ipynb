{
 "cells": [
  {
   "cell_type": "code",
   "execution_count": 1,
   "metadata": {},
   "outputs": [
    {
     "name": "stderr",
     "output_type": "stream",
     "text": [
      "/home/sultan/miniconda3/lib/python3.7/site-packages/fuzzywuzzy/fuzz.py:11: UserWarning: Using slow pure-python SequenceMatcher. Install python-Levenshtein to remove this warning\n",
      "  warnings.warn('Using slow pure-python SequenceMatcher. Install python-Levenshtein to remove this warning')\n"
     ]
    }
   ],
   "source": [
    "import pandas as pd\n",
    "from nltk.corpus import stopwords\n",
    "from nltk.corpus import wordnet as wn\n",
    "import numpy as np\n",
    "from fuzzywuzzy import fuzz \n",
    "import ipywidgets as widgets\n",
    "import pprint\n",
    "from ipywidgets import interact, interact_manual\n",
    "import re\n",
    "__PATH__ = \"./data.csv\""
   ]
  },
  {
   "cell_type": "code",
   "execution_count": 2,
   "metadata": {},
   "outputs": [],
   "source": [
    "df = pd.read_csv(__PATH__,sep=\";\",header=0)"
   ]
  },
  {
   "cell_type": "code",
   "execution_count": 3,
   "metadata": {},
   "outputs": [],
   "source": [
    "titles = list(df['title'].apply(\n",
    "    lambda t : \n",
    "        tuple(\n",
    "            filter(lambda e:not e in stopwords.words('english'),\n",
    "                map(lambda e:e.lower(),\n",
    "                       re.findall('([A-Z]{1}[a-z]+)',t.replace('.pdf','')))\n",
    "                )\n",
    "            )\n",
    "        )\n",
    "    )"
   ]
  },
  {
   "cell_type": "code",
   "execution_count": 4,
   "metadata": {},
   "outputs": [],
   "source": [
    "res = {}\n",
    "for title in titles[:20]:\n",
    "    synsets = {}\n",
    "    for word in title:\n",
    "        synsets[word]=[synset for synset in wn.synsets(word)]\n",
    "    res[title] = synsets"
   ]
  },
  {
   "cell_type": "code",
   "execution_count": 5,
   "metadata": {},
   "outputs": [],
   "source": [
    "def get_2parent_classes(synset):\n",
    "    hyps = dict()\n",
    "    level_count = 1\n",
    "    while level_count < 3:\n",
    "        try:\n",
    "            synset = synset.hypernyms()[0]\n",
    "            hyps[level_count] = synset \n",
    "            level_count += 1\n",
    "        except IndexError:\n",
    "            break\n",
    "    return hyps"
   ]
  },
  {
   "cell_type": "code",
   "execution_count": 6,
   "metadata": {},
   "outputs": [],
   "source": [
    "def extract_hypornyms_en(a):\n",
    "    hypornyms_en_first = set()\n",
    "    hypornyms_en_second = set()\n",
    "    for word in a:\n",
    "        # find the hypernyms of the word\n",
    "        # word = wn.synset(word)\n",
    "        try:\n",
    "            word_synset0 = wn.synsets(word)[0]\n",
    "            hyps_buff = get_2parent_classes(word_synset0)\n",
    "            #print(hyps_buff)\n",
    "            hypornyms_en_first.add(hyps_buff[1].name().split('.')[0])\n",
    "            hypornyms_en_second.add(hyps_buff[2].name().split('.')[0])\n",
    "        except IndexError:\n",
    "            continue\n",
    "        except KeyError:\n",
    "            continue\n",
    "    return hypornyms_en_first, hypornyms_en_second"
   ]
  },
  {
   "cell_type": "code",
   "execution_count": 7,
   "metadata": {},
   "outputs": [],
   "source": [
    "def f1measure(a, b):\n",
    "    a = set(a)\n",
    "    b = set(b)\n",
    "    # missed part\n",
    "    overlap = set()\n",
    "    overlap_hyp_cnt = 0\n",
    "    overlap = a.intersection(b)\n",
    "    overlap_hyp_cnt = len(overlap) \n",
    "    \n",
    "    recl = overlap_hyp_cnt/len(a)\n",
    "    prec = overlap_hyp_cnt/len(b)\n",
    "    \n",
    "    if len(overlap) == 0:\n",
    "        return 0, overlap\n",
    "    else:\n",
    "        return 2*recl*prec/(recl+prec), overlap"
   ]
  },
  {
   "cell_type": "code",
   "execution_count": 8,
   "metadata": {},
   "outputs": [],
   "source": [
    "lang = 'eng'\n",
    "\n",
    "    \n",
    "#def distance(a,b):\n",
    "    ### Put your code here\n",
    "    ### В переменной synsets помимо нормализованного заголовка хранятся синсеты для каждого токена из заголовка.\n",
    "    ### у синсетов есть гиперонимы про то как из брать здесь\n",
    "    ### Если у токенов заголовков есть общие гиперонимы тогда заголовки связаны несмотря на то что слова разные\n",
    "    \n",
    "    #return float((100-fuzz.ratio(a,b))/100)\n",
    "\n",
    "    \n",
    "def distance(a,b):\n",
    "    ### Put your code here\n",
    "    ### В переменной synsets помимо нормализованного заголовка хранятся синсеты для каждого токена из заголовка.\n",
    "    ### у синсетов есть гиперонимы про то как из брать здесь\n",
    "    ### Если у токенов заголовков есть общие гиперонимы тогда заголовки связаны несмотря на то что слова разные\n",
    "    \n",
    "    a = set(a) \n",
    "    b = set(b) \n",
    "    f1score, overlap = f1measure(a, b)\n",
    "    a = a - overlap\n",
    "    b = b - overlap\n",
    "    \n",
    "    if len(a) == 0 or len(b) == 0:\n",
    "        return 1.0 - f1score\n",
    "    \n",
    "    buff_a = {}\n",
    "    buff_b = {}\n",
    "    \n",
    "    if lang == 'eng':\n",
    "        buff_a_first, buff_a_second = extract_hypornyms_en(a)\n",
    "        buff_b_first, buff_b_second = extract_hypornyms_en(b)\n",
    "        \n",
    "    overlap_hyp_cnt = 0\n",
    "    #print('buff_a_first',buff_a_first)\n",
    "    #print('buff_b_first',buff_b_first)\n",
    "    #print('buff_a_second',buff_a_second)\n",
    "    #print('buff_b_second',buff_b_second)\n",
    "    #for word in a:\n",
    "    #    for wordb in b:\n",
    "    #        if len(buff_a[word].intersection(buff_b[wordb])) > 0:\n",
    "    #            overlap_hyp_cnt += 1\n",
    "    \n",
    "    if len(buff_a_first.intersection(buff_b_first)) > 0:\n",
    "        overlap_hyp_cnt += 1\n",
    "    \n",
    "    if len(buff_a_second.intersection(buff_b_second)) > 0:\n",
    "        overlap_hyp_cnt += 0.5\n",
    "    \n",
    "    \n",
    "    \n",
    "    recl_hyp = overlap_hyp_cnt/len(a)\n",
    "    #print('recl_hyp',recl_hyp)\n",
    "    prec_hyp = overlap_hyp_cnt/len(b)\n",
    "    #print('prec_hyp',prec_hyp)\n",
    "    f1score_hyp = 2*recl_hyp/(recl_hyp + prec_hyp) if overlap_hyp_cnt > 0 else 0\n",
    "    # print('f1score_hyp',f1score_hyp)\n",
    "    f1res = (2*f1score+f1score_hyp)/3\n",
    "    #print('f1res',f1res,'\\n')\n",
    "    return (1.0 - f1res)\n",
    "\n",
    "buff = list(res.items())\n",
    "dist = np.zeros((len(buff),len(buff)))\n",
    "for lli,ll in enumerate(buff):\n",
    "    for rri,rr in enumerate(buff):\n",
    "        dist[lli,rri] = distance(ll[0], rr[0])\n",
    "        "
   ]
  },
  {
   "cell_type": "code",
   "execution_count": 9,
   "metadata": {},
   "outputs": [
    {
     "data": {
      "text/plain": [
       "array([[0.        , 1.        , 1.        , 1.        , 1.        ,\n",
       "        1.        , 1.        , 1.        , 0.51851852, 1.        ,\n",
       "        1.        , 1.        , 1.        , 1.        , 1.        ,\n",
       "        1.        , 1.        , 1.        , 1.        , 1.        ],\n",
       "       [1.        , 0.        , 1.        , 1.        , 1.        ,\n",
       "        1.        , 1.        , 1.        , 1.        , 1.        ,\n",
       "        1.        , 0.80952381, 1.        , 1.        , 1.        ,\n",
       "        1.        , 1.        , 1.        , 1.        , 1.        ],\n",
       "       [1.        , 1.        , 0.        , 1.        , 1.        ,\n",
       "        1.        , 1.        , 1.        , 1.        , 1.        ,\n",
       "        1.        , 1.        , 1.        , 1.        , 0.62962963,\n",
       "        1.        , 1.        , 1.        , 1.        , 1.        ],\n",
       "       [1.        , 1.        , 1.        , 0.        , 0.75757576,\n",
       "        1.        , 1.        , 0.85964912, 1.        , 1.        ,\n",
       "        1.        , 1.        , 1.        , 1.        , 1.        ,\n",
       "        1.        , 1.        , 1.        , 1.        , 1.        ],\n",
       "       [1.        , 1.        , 1.        , 0.75757576, 0.        ,\n",
       "        1.        , 1.        , 0.87878788, 1.        , 1.        ,\n",
       "        1.        , 1.        , 1.        , 1.        , 1.        ,\n",
       "        1.        , 1.        , 1.        , 1.        , 1.        ],\n",
       "       [1.        , 1.        , 1.        , 1.        , 1.        ,\n",
       "        0.        , 1.        , 1.        , 1.        , 1.        ,\n",
       "        1.        , 1.        , 1.        , 1.        , 1.        ,\n",
       "        1.        , 1.        , 1.        , 1.        , 1.        ],\n",
       "       [1.        , 1.        , 1.        , 1.        , 1.        ,\n",
       "        1.        , 0.        , 0.54545455, 1.        , 1.        ,\n",
       "        1.        , 1.        , 1.        , 1.        , 1.        ,\n",
       "        1.        , 1.        , 1.        , 1.        , 1.        ],\n",
       "       [1.        , 1.        , 1.        , 0.85964912, 0.87878788,\n",
       "        1.        , 0.78787879, 0.        , 1.        , 1.        ,\n",
       "        1.        , 1.        , 0.76106934, 1.        , 1.        ,\n",
       "        1.        , 1.        , 1.        , 1.        , 1.        ],\n",
       "       [0.81481481, 1.        , 1.        , 1.        , 1.        ,\n",
       "        1.        , 1.        , 1.        , 0.        , 1.        ,\n",
       "        1.        , 1.        , 1.        , 0.78947368, 1.        ,\n",
       "        1.        , 1.        , 1.        , 1.        , 1.        ],\n",
       "       [1.        , 1.        , 1.        , 1.        , 1.        ,\n",
       "        1.        , 1.        , 1.        , 1.        , 0.        ,\n",
       "        1.        , 1.        , 1.        , 1.        , 1.        ,\n",
       "        1.        , 1.        , 1.        , 1.        , 1.        ],\n",
       "       [1.        , 1.        , 1.        , 1.        , 1.        ,\n",
       "        1.        , 1.        , 1.        , 1.        , 1.        ,\n",
       "        0.        , 1.        , 1.        , 1.        , 1.        ,\n",
       "        1.        , 0.81818182, 1.        , 1.        , 1.        ],\n",
       "       [1.        , 0.80952381, 1.        , 1.        , 1.        ,\n",
       "        1.        , 1.        , 1.        , 1.        , 1.        ,\n",
       "        1.        , 0.        , 1.        , 1.        , 1.        ,\n",
       "        0.71428571, 1.        , 1.        , 1.        , 1.        ],\n",
       "       [1.        , 1.        , 1.        , 1.        , 1.        ,\n",
       "        1.        , 1.        , 0.44527987, 1.        , 1.        ,\n",
       "        1.        , 1.        , 0.        , 1.        , 1.        ,\n",
       "        1.        , 1.        , 1.        , 1.        , 1.        ],\n",
       "       [1.        , 1.        , 1.        , 1.        , 1.        ,\n",
       "        1.        , 1.        , 1.        , 0.54385965, 1.        ,\n",
       "        1.        , 1.        , 1.        , 0.        , 1.        ,\n",
       "        1.        , 1.        , 1.        , 1.        , 1.        ],\n",
       "       [1.        , 1.        , 0.7037037 , 1.        , 1.        ,\n",
       "        1.        , 1.        , 1.        , 1.        , 1.        ,\n",
       "        1.        , 1.        , 1.        , 1.        , 0.        ,\n",
       "        1.        , 1.        , 1.        , 1.        , 1.        ],\n",
       "       [1.        , 1.        , 1.        , 1.        , 1.        ,\n",
       "        1.        , 1.        , 1.        , 1.        , 1.        ,\n",
       "        1.        , 0.61904762, 1.        , 1.        , 1.        ,\n",
       "        0.        , 1.        , 1.        , 1.        , 1.        ],\n",
       "       [1.        , 1.        , 1.        , 1.        , 1.        ,\n",
       "        1.        , 1.        , 1.        , 1.        , 1.        ,\n",
       "        0.81818182, 1.        , 1.        , 1.        , 1.        ,\n",
       "        1.        , 0.        , 1.        , 1.        , 1.        ],\n",
       "       [1.        , 1.        , 1.        , 1.        , 1.        ,\n",
       "        1.        , 1.        , 1.        , 1.        , 1.        ,\n",
       "        1.        , 1.        , 1.        , 1.        , 1.        ,\n",
       "        1.        , 1.        , 0.        , 1.        , 1.        ],\n",
       "       [1.        , 1.        , 1.        , 1.        , 1.        ,\n",
       "        1.        , 1.        , 1.        , 1.        , 1.        ,\n",
       "        1.        , 1.        , 1.        , 1.        , 1.        ,\n",
       "        1.        , 1.        , 1.        , 0.        , 1.        ],\n",
       "       [1.        , 1.        , 1.        , 1.        , 1.        ,\n",
       "        1.        , 1.        , 1.        , 1.        , 1.        ,\n",
       "        1.        , 1.        , 1.        , 1.        , 1.        ,\n",
       "        1.        , 1.        , 1.        , 1.        , 0.        ]])"
      ]
     },
     "execution_count": 9,
     "metadata": {},
     "output_type": "execute_result"
    }
   ],
   "source": [
    "dist"
   ]
  },
  {
   "cell_type": "code",
   "execution_count": null,
   "metadata": {},
   "outputs": [],
   "source": []
  },
  {
   "cell_type": "code",
   "execution_count": 10,
   "metadata": {},
   "outputs": [
    {
     "data": {
      "application/vnd.jupyter.widget-view+json": {
       "model_id": "e66336fc4da342a0ad064855198728e3",
       "version_major": 2,
       "version_minor": 0
      },
      "text/plain": [
       "interactive(children=(IntSlider(value=0, description='ind', max=19), Output()), _dom_classes=('widget-interact…"
      ]
     },
     "metadata": {},
     "output_type": "display_data"
    }
   ],
   "source": [
    "@interact(ind=(0,len(buff)-1,1))\n",
    "def h(ind=0):\n",
    "    pp = pprint.PrettyPrinter(indent=4)\n",
    "    print(' '.join(buff[ind][0]))\n",
    "    pp.pprint([buff[i][0] for i in dist[ind][:].argsort()[1:11]])\n"
   ]
  },
  {
   "cell_type": "code",
   "execution_count": 11,
   "metadata": {},
   "outputs": [
    {
     "data": {
      "application/vnd.jupyter.widget-view+json": {
       "model_id": "9dafff0642db406f9379517fd7beb902",
       "version_major": 2,
       "version_minor": 0
      },
      "text/plain": [
       "interactive(children=(IntSlider(value=0, description='ind', max=19), Output()), _dom_classes=('widget-interact…"
      ]
     },
     "metadata": {},
     "output_type": "display_data"
    }
   ],
   "source": [
    "@interact(ind=(0,len(buff)-1,1))\n",
    "def hypernyms(ind=0):\n",
    "    pp = pprint.PrettyPrinter(indent=4)\n",
    "    print(' '.join(buff[ind][0]))\n",
    "    pp.pprint(buff[ind][1])"
   ]
  },
  {
   "cell_type": "code",
   "execution_count": null,
   "metadata": {},
   "outputs": [],
   "source": []
  },
  {
   "cell_type": "code",
   "execution_count": null,
   "metadata": {},
   "outputs": [],
   "source": []
  },
  {
   "cell_type": "code",
   "execution_count": null,
   "metadata": {},
   "outputs": [],
   "source": []
  }
 ],
 "metadata": {
  "kernelspec": {
   "display_name": "Python 3",
   "language": "python",
   "name": "python3"
  },
  "language_info": {
   "codemirror_mode": {
    "name": "ipython",
    "version": 3
   },
   "file_extension": ".py",
   "mimetype": "text/x-python",
   "name": "python",
   "nbconvert_exporter": "python",
   "pygments_lexer": "ipython3",
   "version": "3.7.4"
  }
 },
 "nbformat": 4,
 "nbformat_minor": 4
}
